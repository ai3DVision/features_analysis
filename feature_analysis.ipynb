{
 "metadata": {
  "name": "",
  "signature": "sha256:229e4f878492b7c32c7d0ace0e3a81bb454ab1daa5ba77fb9002e49ce4b04477"
 },
 "nbformat": 3,
 "nbformat_minor": 0,
 "worksheets": [
  {
   "cells": [
    {
     "cell_type": "heading",
     "level": 1,
     "metadata": {},
     "source": [
      "Understanding deep features with computer-generated imagery"
     ]
    },
    {
     "cell_type": "heading",
     "level": 3,
     "metadata": {},
     "source": [
      "Mathieu Aubry and Bryan Russell, \n",
      "ICCV 2015"
     ]
    },
    {
     "cell_type": "markdown",
     "metadata": {},
     "source": [
      "Disclaimer: This implementation of the approach described in the paper does not claim to be optimal in any way\n"
     ]
    },
    {
     "cell_type": "markdown",
     "metadata": {},
     "source": [
      "This first release for the code only contains the code for the quantatative feature analysis. Code for generating the embedding images, perform the Nearest Neighboor retrieval and generate colored-coded view of the analysis will be released progressively."
     ]
    },
    {
     "cell_type": "code",
     "collapsed": false,
     "input": [
      "## imports\n",
      "from image_generator import ImageGenerator\n",
      "import cnn_statistics as stat\n",
      "import numpy as np\n",
      "import os\n",
      "import time\n",
      "caffe_root = '/home/ma/caffe/'  # change to your caffe root\n",
      "import sys\n",
      "sys.path.insert(0, caffe_root + 'python')\n",
      "import caffe\n",
      "import scipy\n",
      "import math\n",
      "import string"
     ],
     "language": "python",
     "metadata": {},
     "outputs": [],
     "prompt_number": 1
    },
    {
     "cell_type": "code",
     "collapsed": false,
     "input": [
      "## initialize ALEXNET network\n",
      "caffe.set_device(0)\n",
      "caffe.set_mode_gpu()\n",
      "net = caffe.Classifier(caffe_root + 'models/bvlc_reference_caffenet/deploy.prototxt',\n",
      "                       caffe_root + 'models/bvlc_reference_caffenet/bvlc_reference_caffenet.caffemodel')\n",
      "net.transformer.set_mean('data', np.load(caffe_root + 'python/caffe/imagenet/ilsvrc_2012_mean.npy').mean(1).mean(1))  # ImageNet mean\n",
      "net.transformer.set_raw_scale('data', 255)  # the reference model operates on images in [0,255] range instead of [0,1]\n",
      "net.transformer.set_channel_swap('data', (2,1,0))  # the reference model has channels in BGR order instead of RGB"
     ],
     "language": "python",
     "metadata": {},
     "outputs": [],
     "prompt_number": 2
    },
    {
     "cell_type": "markdown",
     "metadata": {},
     "source": [
      "Change the paths to your data and desired result folder"
     ]
    },
    {
     "cell_type": "code",
     "collapsed": false,
     "input": [
      "## Data and results folders\n",
      "DATA_ROOT='/home/ma/DATA/modelNet/web'\n",
      "DATA_ROOT_rotation=DATA_ROOT+'/render_rotation'\n",
      "DATA_ROOT_light=DATA_ROOT+'/render_light'\n",
      "DATA_ROOT_color_bg=DATA_ROOT+'/render_color_bg'\n",
      "DATA_ROOT_color_fg=DATA_ROOT+'/render_color_fg'\n",
      "RESULTS_ROOT='/home/ma/RESULTS/modelNet_web'\n",
      "if not os.path.exists(RESULTS_ROOT):\n",
      "        os.mkdir(RESULTS_ROOT)"
     ],
     "language": "python",
     "metadata": {},
     "outputs": [],
     "prompt_number": 3
    },
    {
     "cell_type": "markdown",
     "metadata": {},
     "source": [
      "Select wich eperiments you want to run (some may require a long time!)"
     ]
    },
    {
     "cell_type": "code",
     "collapsed": false,
     "input": [
      "categories_names=['car'] # ['car','chair','sofa' ,'toilet','bed']\n",
      "test_layers=['pool5','fc6','fc7','fc8','prob'] # ['data','conv1','pool1','norm1','conv2','pool2','norm2','conv3','conv4', 'conv5','pool5','fc6','fc7','fc8','prob']\n",
      "generator_kinds=['rotation']#['rotation','translationxy','scale','light','color_fg','color_bg',]\n",
      "synth_generator_kinds=['rectangle','bicolor']"
     ],
     "language": "python",
     "metadata": {},
     "outputs": [],
     "prompt_number": 4
    },
    {
     "cell_type": "code",
     "collapsed": false,
     "input": [
      "#%%%%%%%%%%%%%%%%%%%%%%%%%%%%%%%%%%%%%%%%%%%%%%%%%%%%%%%%%%%%\n",
      "#   COMPUTE ANALYSIS\n",
      "#%%%%%%%%%%%%%%%%%%%%%%%%%%%%%%%%%%%%%%%%%%%%%%%%%%%%%%%%%%\n",
      "\n",
      "# for experiments using synthetic 2D examples\n",
      "for generator_kind in synth_generator_kinds:\n",
      "     print('%%%%%%%%%%  '+ generator_kind)\n",
      "     params={'variation_name':generator_kind}\n",
      "     results_folder=RESULTS_ROOT+'/'+generator_kind\n",
      "     generator=ImageGenerator(params)\n",
      "        \n",
      "     # computing only the variance statistics\n",
      "     stat.var_sep(generator,net,results_folder,test_layers)\n",
      "\n",
      "    # computing the PCA (slower and limited to higher layers because it computes the covariance)\n",
      "    # note: alternative PCA methods could be use to compute this for lower layers (see paper for details)\n",
      "#         stat.pca(generator,net,results_folder,test_layers,N_projections=300)\n",
      "#         stat.eigdec(results_folder,test_layers,N_projections=1000)\n",
      "    \n",
      "# for experiments using CAD models\n",
      "for category_name in categories_names:#['bicycle']:#\n",
      "\n",
      "    print('%%%%%%%%%%%%%%%%%%%%  '+ category_name+' %%%%%%%%%%%%%%%%%%%%%%')\n",
      "    \n",
      "    # define the parameter for each transformation: some are generated on the fly (e.g. translation),\n",
      "    # some have to be already available (rotations)\n",
      "    params={}\n",
      "    data_folder=DATA_ROOT_rotation+'/'+category_name\n",
      "    params['rotation']={'variation_name':'subfolders','data_folder':data_folder}\n",
      "    params['scale']={'variation_name':'scale','data_folder':data_folder}\n",
      "    params['translationxy']={'variation_name':'translationxy','data_folder':data_folder}\n",
      "    data_folder=DATA_ROOT_light+'/'+category_name\n",
      "    params['light']={'variation_name':'subfolders','data_folder':data_folder}\n",
      "    data_folder=DATA_ROOT_color_bg+'/'+category_name\n",
      "    params['color_bg']={'variation_name':'subfolders','data_folder':data_folder}\n",
      "    data_folder=DATA_ROOT_color_fg+'/'+category_name\n",
      "    params['color_fg']={'variation_name':'subfolders','data_folder':data_folder}\n",
      "    \n",
      "   \n",
      "    for generator_kind in generator_kinds:\n",
      "         \n",
      "         print('%%%%%%%%%%  '+ generator_kind)\n",
      "         generator=ImageGenerator(params[generator_kind])\n",
      "     \n",
      "         results_folder=RESULTS_ROOT+'/'+category_name+'_'+generator_kind\n",
      "            \n",
      "         # computing only the variance statistics\n",
      "         stat.var_sep(generator,net,results_folder,test_layers)\n",
      "         \n",
      "         print('')   \n",
      "        # computing the PCA (slower and limited to higher layers because it computes the covariance)\n",
      "        # note: alternative PCA methods could be use to compute this for lower layers (see paper for details)\n",
      "#         stat.pca(generator,net,results_folder,test_layers,N_projections=300)\n",
      "#         stat.eigdec(results_folder,test_layers,N_projections=1000)\n",
      "    \n",
      "    "
     ],
     "language": "python",
     "metadata": {},
     "outputs": [
      {
       "output_type": "stream",
       "stream": "stdout",
       "text": [
        "%%%%%%%%%%  rectangle\n",
        "\r",
        "computed 1 instances in 0.50021314621 seconds"
       ]
      },
      {
       "output_type": "stream",
       "stream": "stdout",
       "text": [
        " \r",
        "computed 2 instances in 0.998874187469 seconds "
       ]
      },
      {
       "output_type": "stream",
       "stream": "stdout",
       "text": [
        "\r",
        "computed 3 instances in 1.49864816666 seconds "
       ]
      },
      {
       "output_type": "stream",
       "stream": "stdout",
       "text": [
        "\r",
        "computed 4 instances in 1.99394202232 seconds "
       ]
      },
      {
       "output_type": "stream",
       "stream": "stdout",
       "text": [
        "\r",
        "computed 5 instances in 2.49482107162 seconds "
       ]
      },
      {
       "output_type": "stream",
       "stream": "stdout",
       "text": [
        "\r",
        "computed 6 instances in 2.99994015694 seconds "
       ]
      },
      {
       "output_type": "stream",
       "stream": "stdout",
       "text": [
        "\r",
        "computed 7 instances in 3.49893307686 seconds "
       ]
      },
      {
       "output_type": "stream",
       "stream": "stdout",
       "text": [
        "\r",
        "computed 8 instances in 3.99521899223 seconds "
       ]
      },
      {
       "output_type": "stream",
       "stream": "stdout",
       "text": [
        "\r",
        "computed 9 instances in 4.4971010685 seconds "
       ]
      },
      {
       "output_type": "stream",
       "stream": "stdout",
       "text": [
        "\r",
        "computed 10 instances in 5.00019717216 seconds "
       ]
      },
      {
       "output_type": "stream",
       "stream": "stdout",
       "text": [
        "\r",
        "computed 11 instances in 5.50122499466 seconds "
       ]
      },
      {
       "output_type": "stream",
       "stream": "stdout",
       "text": [
        "\r",
        "computed 12 instances in 6.00387310982 seconds "
       ]
      },
      {
       "output_type": "stream",
       "stream": "stdout",
       "text": [
        "\r",
        "computed 13 instances in 6.50043606758 seconds \r\n",
        "Variance repartition layer pool5 :\n",
        "Dimension 1 : 49.8%\n",
        "Dimension 2 : 9.5%\n",
        "Residual    : 40.8%\n",
        "Variance repartition layer fc6 :\n",
        "Dimension 1 : 45.1%\n",
        "Dimension 2 : 22.3%\n",
        "Residual    : 32.6%\n",
        "Variance repartition layer fc7 :\n",
        "Dimension 1 : 33.9%\n",
        "Dimension 2 : 37.0%\n",
        "Residual    : 29.1%\n",
        "Variance repartition layer fc8 :\n",
        "Dimension 1 : 26.1%\n",
        "Dimension 2 : 46.8%\n",
        "Residual    : 27.1%\n",
        "Variance repartition layer prob :\n",
        "Dimension 1 : 18.6%\n",
        "Dimension 2 : 49.0%\n",
        "Residual    : 32.4%\n",
        "%%%%%%%%%%  bicolor\n",
        "\r",
        "computed 1 instances in 0.983077049255 seconds"
       ]
      },
      {
       "output_type": "stream",
       "stream": "stdout",
       "text": [
        " \r",
        "computed 2 instances in 1.97811412811 seconds "
       ]
      },
      {
       "output_type": "stream",
       "stream": "stdout",
       "text": [
        "\r",
        "computed 3 instances in 2.97208404541 seconds "
       ]
      },
      {
       "output_type": "stream",
       "stream": "stdout",
       "text": [
        "\r",
        "computed 4 instances in 3.96676802635 seconds "
       ]
      },
      {
       "output_type": "stream",
       "stream": "stdout",
       "text": [
        "\r",
        "computed 5 instances in 4.97240018845 seconds "
       ]
      },
      {
       "output_type": "stream",
       "stream": "stdout",
       "text": [
        "\r",
        "computed 6 instances in 5.97433900833 seconds "
       ]
      },
      {
       "output_type": "stream",
       "stream": "stdout",
       "text": [
        "\r",
        "computed 7 instances in 6.9756000042 seconds "
       ]
      },
      {
       "output_type": "stream",
       "stream": "stdout",
       "text": [
        "\r",
        "computed 8 instances in 7.97499799728 seconds "
       ]
      },
      {
       "output_type": "stream",
       "stream": "stdout",
       "text": [
        "\r",
        "computed 9 instances in 8.99451303482 seconds "
       ]
      },
      {
       "output_type": "stream",
       "stream": "stdout",
       "text": [
        "\r",
        "computed 10 instances in 9.99383997917 seconds "
       ]
      },
      {
       "output_type": "stream",
       "stream": "stdout",
       "text": [
        "\r",
        "computed 11 instances in 10.9913141727 seconds "
       ]
      },
      {
       "output_type": "stream",
       "stream": "stdout",
       "text": [
        "\r",
        "computed 12 instances in 11.9799201488 seconds "
       ]
      },
      {
       "output_type": "stream",
       "stream": "stdout",
       "text": [
        "\r",
        "computed 13 instances in 12.9762020111 seconds "
       ]
      },
      {
       "output_type": "stream",
       "stream": "stdout",
       "text": [
        "\r",
        "computed 14 instances in 13.9740040302 seconds "
       ]
      },
      {
       "output_type": "stream",
       "stream": "stdout",
       "text": [
        "\r",
        "computed 15 instances in 14.9695980549 seconds "
       ]
      },
      {
       "output_type": "stream",
       "stream": "stdout",
       "text": [
        "\r",
        "computed 16 instances in 15.9621050358 seconds "
       ]
      },
      {
       "output_type": "stream",
       "stream": "stdout",
       "text": [
        "\r",
        "computed 17 instances in 16.9551231861 seconds "
       ]
      },
      {
       "output_type": "stream",
       "stream": "stdout",
       "text": [
        "\r",
        "computed 18 instances in 17.9462251663 seconds "
       ]
      },
      {
       "output_type": "stream",
       "stream": "stdout",
       "text": [
        "\r",
        "computed 19 instances in 18.9409451485 seconds "
       ]
      },
      {
       "output_type": "stream",
       "stream": "stdout",
       "text": [
        "\r",
        "computed 20 instances in 19.9350631237 seconds "
       ]
      },
      {
       "output_type": "stream",
       "stream": "stdout",
       "text": [
        "\r",
        "computed 21 instances in 20.9231030941 seconds "
       ]
      },
      {
       "output_type": "stream",
       "stream": "stdout",
       "text": [
        "\r",
        "computed 22 instances in 21.9148020744 seconds "
       ]
      },
      {
       "output_type": "stream",
       "stream": "stdout",
       "text": [
        "\r",
        "computed 23 instances in 22.9058160782 seconds "
       ]
      },
      {
       "output_type": "stream",
       "stream": "stdout",
       "text": [
        "\r",
        "computed 24 instances in 23.8988661766 seconds "
       ]
      },
      {
       "output_type": "stream",
       "stream": "stdout",
       "text": [
        "\r",
        "computed 25 instances in 24.8891751766 seconds "
       ]
      },
      {
       "output_type": "stream",
       "stream": "stdout",
       "text": [
        "\r",
        "computed 26 instances in 25.8776550293 seconds "
       ]
      },
      {
       "output_type": "stream",
       "stream": "stdout",
       "text": [
        "\r",
        "computed 27 instances in 26.8688311577 seconds "
       ]
      },
      {
       "output_type": "stream",
       "stream": "stdout",
       "text": [
        "\r",
        "computed 28 instances in 27.8620340824 seconds "
       ]
      },
      {
       "output_type": "stream",
       "stream": "stdout",
       "text": [
        "\r",
        "computed 29 instances in 28.857653141 seconds "
       ]
      },
      {
       "output_type": "stream",
       "stream": "stdout",
       "text": [
        "\r",
        "computed 30 instances in 29.8498980999 seconds "
       ]
      },
      {
       "output_type": "stream",
       "stream": "stdout",
       "text": [
        "\r",
        "computed 31 instances in 30.8493030071 seconds "
       ]
      },
      {
       "output_type": "stream",
       "stream": "stdout",
       "text": [
        "\r",
        "computed 32 instances in 31.8397591114 seconds "
       ]
      },
      {
       "output_type": "stream",
       "stream": "stdout",
       "text": [
        "\r",
        "computed 33 instances in 32.8280689716 seconds "
       ]
      },
      {
       "output_type": "stream",
       "stream": "stdout",
       "text": [
        "\r",
        "computed 34 instances in 33.8219201565 seconds "
       ]
      },
      {
       "output_type": "stream",
       "stream": "stdout",
       "text": [
        "\r",
        "computed 35 instances in 34.8190331459 seconds "
       ]
      },
      {
       "output_type": "stream",
       "stream": "stdout",
       "text": [
        "\r",
        "computed 36 instances in 35.8085930347 seconds "
       ]
      },
      {
       "output_type": "stream",
       "stream": "stdout",
       "text": [
        "\r",
        "computed 37 instances in 36.8086380959 seconds "
       ]
      },
      {
       "output_type": "stream",
       "stream": "stdout",
       "text": [
        "\r",
        "computed 38 instances in 37.8032681942 seconds "
       ]
      },
      {
       "output_type": "stream",
       "stream": "stdout",
       "text": [
        "\r",
        "computed 39 instances in 38.7961871624 seconds "
       ]
      },
      {
       "output_type": "stream",
       "stream": "stdout",
       "text": [
        "\r",
        "computed 40 instances in 39.7890691757 seconds "
       ]
      },
      {
       "output_type": "stream",
       "stream": "stdout",
       "text": [
        "\r",
        "computed 41 instances in 40.782528162 seconds "
       ]
      },
      {
       "output_type": "stream",
       "stream": "stdout",
       "text": [
        "\r",
        "computed 42 instances in 41.7754750252 seconds "
       ]
      },
      {
       "output_type": "stream",
       "stream": "stdout",
       "text": [
        "\r",
        "computed 43 instances in 42.7705881596 seconds "
       ]
      },
      {
       "output_type": "stream",
       "stream": "stdout",
       "text": [
        "\r",
        "computed 44 instances in 43.7635910511 seconds "
       ]
      },
      {
       "output_type": "stream",
       "stream": "stdout",
       "text": [
        "\r",
        "computed 45 instances in 44.7554681301 seconds "
       ]
      },
      {
       "output_type": "stream",
       "stream": "stdout",
       "text": [
        "\r",
        "computed 46 instances in 45.7500770092 seconds "
       ]
      },
      {
       "output_type": "stream",
       "stream": "stdout",
       "text": [
        "\r",
        "computed 47 instances in 46.7440340519 seconds "
       ]
      },
      {
       "output_type": "stream",
       "stream": "stdout",
       "text": [
        "\r",
        "computed 48 instances in 47.7347581387 seconds "
       ]
      },
      {
       "output_type": "stream",
       "stream": "stdout",
       "text": [
        "\r",
        "computed 49 instances in 48.7274901867 seconds "
       ]
      },
      {
       "output_type": "stream",
       "stream": "stdout",
       "text": [
        "\r",
        "computed 50 instances in 49.7217681408 seconds "
       ]
      },
      {
       "output_type": "stream",
       "stream": "stdout",
       "text": [
        "\r",
        "computed 51 instances in 50.7162601948 seconds "
       ]
      },
      {
       "output_type": "stream",
       "stream": "stdout",
       "text": [
        "\r",
        "computed 52 instances in 51.7102751732 seconds "
       ]
      },
      {
       "output_type": "stream",
       "stream": "stdout",
       "text": [
        "\r",
        "computed 53 instances in 52.7025680542 seconds "
       ]
      },
      {
       "output_type": "stream",
       "stream": "stdout",
       "text": [
        "\r",
        "computed 54 instances in 53.6925339699 seconds "
       ]
      },
      {
       "output_type": "stream",
       "stream": "stdout",
       "text": [
        "\r",
        "computed 55 instances in 54.6870501041 seconds "
       ]
      },
      {
       "output_type": "stream",
       "stream": "stdout",
       "text": [
        "\r",
        "computed 56 instances in 55.6841371059 seconds "
       ]
      },
      {
       "output_type": "stream",
       "stream": "stdout",
       "text": [
        "\r",
        "computed 57 instances in 56.6816670895 seconds "
       ]
      },
      {
       "output_type": "stream",
       "stream": "stdout",
       "text": [
        "\r",
        "computed 58 instances in 57.6813759804 seconds "
       ]
      },
      {
       "output_type": "stream",
       "stream": "stdout",
       "text": [
        "\r",
        "computed 59 instances in 58.6816561222 seconds "
       ]
      },
      {
       "output_type": "stream",
       "stream": "stdout",
       "text": [
        "\r",
        "computed 60 instances in 59.6730010509 seconds "
       ]
      },
      {
       "output_type": "stream",
       "stream": "stdout",
       "text": [
        "\r",
        "computed 61 instances in 60.6745131016 seconds "
       ]
      },
      {
       "output_type": "stream",
       "stream": "stdout",
       "text": [
        "\r",
        "computed 62 instances in 61.6714019775 seconds "
       ]
      },
      {
       "output_type": "stream",
       "stream": "stdout",
       "text": [
        "\r",
        "computed 63 instances in 62.6866760254 seconds "
       ]
      },
      {
       "output_type": "stream",
       "stream": "stdout",
       "text": [
        "\r",
        "computed 64 instances in 63.6873090267 seconds "
       ]
      },
      {
       "output_type": "stream",
       "stream": "stdout",
       "text": [
        "\r",
        "computed 65 instances in 64.7093570232 seconds "
       ]
      },
      {
       "output_type": "stream",
       "stream": "stdout",
       "text": [
        "\r",
        "computed 66 instances in 65.7080290318 seconds "
       ]
      },
      {
       "output_type": "stream",
       "stream": "stdout",
       "text": [
        "\r",
        "computed 67 instances in 66.7230010033 seconds "
       ]
      },
      {
       "output_type": "stream",
       "stream": "stdout",
       "text": [
        "\r",
        "computed 68 instances in 67.7479391098 seconds "
       ]
      },
      {
       "output_type": "stream",
       "stream": "stdout",
       "text": [
        "\r",
        "computed 69 instances in 68.7609570026 seconds "
       ]
      },
      {
       "output_type": "stream",
       "stream": "stdout",
       "text": [
        "\r",
        "computed 70 instances in 69.7786390781 seconds "
       ]
      },
      {
       "output_type": "stream",
       "stream": "stdout",
       "text": [
        "\r",
        "computed 71 instances in 70.7935709953 seconds "
       ]
      },
      {
       "output_type": "stream",
       "stream": "stdout",
       "text": [
        "\r",
        "computed 72 instances in 71.7985711098 seconds "
       ]
      },
      {
       "output_type": "stream",
       "stream": "stdout",
       "text": [
        "\r",
        "computed 73 instances in 72.7991220951 seconds "
       ]
      },
      {
       "output_type": "stream",
       "stream": "stdout",
       "text": [
        "\r",
        "computed 74 instances in 73.7895700932 seconds "
       ]
      },
      {
       "output_type": "stream",
       "stream": "stdout",
       "text": [
        "\r",
        "computed 75 instances in 74.8233170509 seconds "
       ]
      },
      {
       "output_type": "stream",
       "stream": "stdout",
       "text": [
        "\r",
        "computed 76 instances in 75.8326361179 seconds "
       ]
      },
      {
       "output_type": "stream",
       "stream": "stdout",
       "text": [
        "\r",
        "computed 77 instances in 76.8861839771 seconds "
       ]
      },
      {
       "output_type": "stream",
       "stream": "stdout",
       "text": [
        "\r",
        "computed 78 instances in 78.0135250092 seconds "
       ]
      },
      {
       "output_type": "stream",
       "stream": "stdout",
       "text": [
        "\r",
        "computed 79 instances in 79.0351340771 seconds "
       ]
      },
      {
       "output_type": "stream",
       "stream": "stdout",
       "text": [
        "\r",
        "computed 80 instances in 80.0394752026 seconds "
       ]
      },
      {
       "output_type": "stream",
       "stream": "stdout",
       "text": [
        "\r",
        "computed 81 instances in 81.0379650593 seconds "
       ]
      },
      {
       "output_type": "stream",
       "stream": "stdout",
       "text": [
        "\r",
        "computed 82 instances in 82.0376110077 seconds "
       ]
      },
      {
       "output_type": "stream",
       "stream": "stdout",
       "text": [
        "\r",
        "computed 83 instances in 83.0324730873 seconds "
       ]
      },
      {
       "output_type": "stream",
       "stream": "stdout",
       "text": [
        "\r",
        "computed 84 instances in 84.019338131 seconds "
       ]
      },
      {
       "output_type": "stream",
       "stream": "stdout",
       "text": [
        "\r",
        "computed 85 instances in 85.0117540359 seconds "
       ]
      },
      {
       "output_type": "stream",
       "stream": "stdout",
       "text": [
        "\r",
        "computed 86 instances in 86.0184149742 seconds "
       ]
      },
      {
       "output_type": "stream",
       "stream": "stdout",
       "text": [
        "\r",
        "computed 87 instances in 87.0369811058 seconds "
       ]
      },
      {
       "output_type": "stream",
       "stream": "stdout",
       "text": [
        "\r",
        "computed 88 instances in 88.0433740616 seconds "
       ]
      },
      {
       "output_type": "stream",
       "stream": "stdout",
       "text": [
        "\r",
        "computed 89 instances in 89.046957016 seconds "
       ]
      },
      {
       "output_type": "stream",
       "stream": "stdout",
       "text": [
        "\r",
        "computed 90 instances in 90.060683012 seconds "
       ]
      },
      {
       "output_type": "stream",
       "stream": "stdout",
       "text": [
        "\r",
        "computed 91 instances in 91.0762021542 seconds "
       ]
      },
      {
       "output_type": "stream",
       "stream": "stdout",
       "text": [
        "\r",
        "computed 92 instances in 92.0941541195 seconds "
       ]
      },
      {
       "output_type": "stream",
       "stream": "stdout",
       "text": [
        "\r",
        "computed 93 instances in 93.0865221024 seconds "
       ]
      },
      {
       "output_type": "stream",
       "stream": "stdout",
       "text": [
        "\r",
        "computed 94 instances in 94.0685842037 seconds "
       ]
      },
      {
       "output_type": "stream",
       "stream": "stdout",
       "text": [
        "\r",
        "computed 95 instances in 95.0675780773 seconds "
       ]
      },
      {
       "output_type": "stream",
       "stream": "stdout",
       "text": [
        "\r",
        "computed 96 instances in 96.0839149952 seconds "
       ]
      },
      {
       "output_type": "stream",
       "stream": "stdout",
       "text": [
        "\r",
        "computed 97 instances in 97.0902051926 seconds "
       ]
      },
      {
       "output_type": "stream",
       "stream": "stdout",
       "text": [
        "\r",
        "computed 98 instances in 98.1008172035 seconds "
       ]
      },
      {
       "output_type": "stream",
       "stream": "stdout",
       "text": [
        "\r",
        "computed 99 instances in 99.1101911068 seconds "
       ]
      },
      {
       "output_type": "stream",
       "stream": "stdout",
       "text": [
        "\r",
        "computed 100 instances in 100.12246418 seconds "
       ]
      },
      {
       "output_type": "stream",
       "stream": "stdout",
       "text": [
        "\r",
        "computed 101 instances in 101.128424168 seconds "
       ]
      },
      {
       "output_type": "stream",
       "stream": "stdout",
       "text": [
        "\r",
        "computed 102 instances in 102.137542009 seconds "
       ]
      },
      {
       "output_type": "stream",
       "stream": "stdout",
       "text": [
        "\r",
        "computed 103 instances in 103.141268015 seconds "
       ]
      },
      {
       "output_type": "stream",
       "stream": "stdout",
       "text": [
        "\r",
        "computed 104 instances in 104.145227194 seconds "
       ]
      },
      {
       "output_type": "stream",
       "stream": "stdout",
       "text": [
        "\r",
        "computed 105 instances in 105.152835131 seconds "
       ]
      },
      {
       "output_type": "stream",
       "stream": "stdout",
       "text": [
        "\r",
        "computed 106 instances in 106.15925312 seconds "
       ]
      },
      {
       "output_type": "stream",
       "stream": "stdout",
       "text": [
        "\r",
        "computed 107 instances in 107.17041707 seconds "
       ]
      },
      {
       "output_type": "stream",
       "stream": "stdout",
       "text": [
        "\r",
        "computed 108 instances in 108.181527138 seconds "
       ]
      },
      {
       "output_type": "stream",
       "stream": "stdout",
       "text": [
        "\r",
        "computed 109 instances in 109.186072111 seconds "
       ]
      },
      {
       "output_type": "stream",
       "stream": "stdout",
       "text": [
        "\r",
        "computed 110 instances in 110.199820995 seconds "
       ]
      },
      {
       "output_type": "stream",
       "stream": "stdout",
       "text": [
        "\r",
        "computed 111 instances in 111.204061031 seconds "
       ]
      },
      {
       "output_type": "stream",
       "stream": "stdout",
       "text": [
        "\r",
        "computed 112 instances in 112.208224058 seconds "
       ]
      },
      {
       "output_type": "stream",
       "stream": "stdout",
       "text": [
        "\r",
        "computed 113 instances in 113.22102809 seconds "
       ]
      },
      {
       "output_type": "stream",
       "stream": "stdout",
       "text": [
        "\r",
        "computed 114 instances in 114.229995012 seconds "
       ]
      },
      {
       "output_type": "stream",
       "stream": "stdout",
       "text": [
        "\r",
        "computed 115 instances in 115.247578144 seconds "
       ]
      },
      {
       "output_type": "stream",
       "stream": "stdout",
       "text": [
        "\r",
        "computed 116 instances in 116.235292196 seconds "
       ]
      },
      {
       "output_type": "stream",
       "stream": "stdout",
       "text": [
        "\r",
        "computed 117 instances in 117.221639156 seconds "
       ]
      },
      {
       "output_type": "stream",
       "stream": "stdout",
       "text": [
        "\r",
        "computed 118 instances in 118.211650133 seconds "
       ]
      },
      {
       "output_type": "stream",
       "stream": "stdout",
       "text": [
        "\r",
        "computed 119 instances in 119.201128006 seconds "
       ]
      },
      {
       "output_type": "stream",
       "stream": "stdout",
       "text": [
        "\r",
        "computed 120 instances in 120.209788084 seconds "
       ]
      },
      {
       "output_type": "stream",
       "stream": "stdout",
       "text": [
        "\r",
        "computed 121 instances in 121.212172031 seconds "
       ]
      },
      {
       "output_type": "stream",
       "stream": "stdout",
       "text": [
        "\r",
        "computed 122 instances in 122.213060141 seconds "
       ]
      },
      {
       "output_type": "stream",
       "stream": "stdout",
       "text": [
        "\r",
        "computed 123 instances in 123.205551147 seconds "
       ]
      },
      {
       "output_type": "stream",
       "stream": "stdout",
       "text": [
        "\r",
        "computed 124 instances in 124.205047131 seconds "
       ]
      },
      {
       "output_type": "stream",
       "stream": "stdout",
       "text": [
        "\r",
        "computed 125 instances in 125.190086126 seconds \r\n",
        "Variance repartition layer pool5 :\n",
        "Dimension 1 : 20.4%\n",
        "Dimension 2 : 44.8%\n",
        "Residual    : 34.8%\n",
        "Variance repartition layer fc6 :\n",
        "Dimension 1 : 18.7%\n",
        "Dimension 2 : 42.6%\n",
        "Residual    : 38.7%\n",
        "Variance repartition layer fc7 :\n",
        "Dimension 1 : 19.2%\n",
        "Dimension 2 : 39.9%\n",
        "Residual    : 40.8%\n",
        "Variance repartition layer fc8 :\n",
        "Dimension 1 : 20.3%\n",
        "Dimension 2 : 38.3%\n",
        "Residual    : 41.4%\n",
        "Variance repartition layer prob :\n",
        "Dimension 1 : 15.3%\n",
        "Dimension 2 : 30.6%\n",
        "Residual    : 54.1%\n",
        "%%%%%%%%%%%%%%%%%%%%  car %%%%%%%%%%%%%%%%%%%%%%\n",
        "%%%%%%%%%%  rotation\n",
        "\r",
        "computed 1 instances in 0.408716201782 seconds"
       ]
      },
      {
       "output_type": "stream",
       "stream": "stdout",
       "text": [
        " \r",
        "computed 2 instances in 0.816421031952 seconds "
       ]
      },
      {
       "output_type": "stream",
       "stream": "stdout",
       "text": [
        "\r",
        "computed 3 instances in 1.2182161808 seconds "
       ]
      },
      {
       "output_type": "stream",
       "stream": "stdout",
       "text": [
        "\r",
        "computed 4 instances in 1.62842416763 seconds "
       ]
      },
      {
       "output_type": "stream",
       "stream": "stdout",
       "text": [
        "\r",
        "computed 5 instances in 2.03471112251 seconds "
       ]
      },
      {
       "output_type": "stream",
       "stream": "stdout",
       "text": [
        "\r",
        "computed 6 instances in 2.44086408615 seconds "
       ]
      },
      {
       "output_type": "stream",
       "stream": "stdout",
       "text": [
        "\r",
        "computed 7 instances in 2.853703022 seconds "
       ]
      },
      {
       "output_type": "stream",
       "stream": "stdout",
       "text": [
        "\r",
        "computed 8 instances in 3.2701010704 seconds "
       ]
      },
      {
       "output_type": "stream",
       "stream": "stdout",
       "text": [
        "\r",
        "computed 9 instances in 3.67670607567 seconds "
       ]
      },
      {
       "output_type": "stream",
       "stream": "stdout",
       "text": [
        "\r",
        "computed 10 instances in 4.08398318291 seconds "
       ]
      },
      {
       "output_type": "stream",
       "stream": "stdout",
       "text": [
        "\r",
        "computed 11 instances in 4.49907112122 seconds "
       ]
      },
      {
       "output_type": "stream",
       "stream": "stdout",
       "text": [
        "\r",
        "computed 12 instances in 4.90352010727 seconds "
       ]
      },
      {
       "output_type": "stream",
       "stream": "stdout",
       "text": [
        "\r",
        "computed 13 instances in 5.30826401711 seconds "
       ]
      },
      {
       "output_type": "stream",
       "stream": "stdout",
       "text": [
        "\r",
        "computed 14 instances in 5.71388721466 seconds "
       ]
      },
      {
       "output_type": "stream",
       "stream": "stdout",
       "text": [
        "\r",
        "computed 15 instances in 6.1180100441 seconds "
       ]
      },
      {
       "output_type": "stream",
       "stream": "stdout",
       "text": [
        "\r",
        "computed 16 instances in 6.52757310867 seconds "
       ]
      },
      {
       "output_type": "stream",
       "stream": "stdout",
       "text": [
        "\r",
        "computed 17 instances in 6.93196320534 seconds "
       ]
      },
      {
       "output_type": "stream",
       "stream": "stdout",
       "text": [
        "\r",
        "computed 18 instances in 7.34195613861 seconds "
       ]
      },
      {
       "output_type": "stream",
       "stream": "stdout",
       "text": [
        "\r",
        "computed 19 instances in 7.74596118927 seconds "
       ]
      },
      {
       "output_type": "stream",
       "stream": "stdout",
       "text": [
        "\r",
        "computed 20 instances in 8.15334200859 seconds "
       ]
      },
      {
       "output_type": "stream",
       "stream": "stdout",
       "text": [
        "\r",
        "computed 21 instances in 8.55850410461 seconds "
       ]
      },
      {
       "output_type": "stream",
       "stream": "stdout",
       "text": [
        "\r",
        "computed 22 instances in 8.96810507774 seconds "
       ]
      },
      {
       "output_type": "stream",
       "stream": "stdout",
       "text": [
        "\r",
        "computed 23 instances in 9.3749601841 seconds "
       ]
      },
      {
       "output_type": "stream",
       "stream": "stdout",
       "text": [
        "\r",
        "computed 24 instances in 9.7828130722 seconds "
       ]
      },
      {
       "output_type": "stream",
       "stream": "stdout",
       "text": [
        "\r",
        "computed 25 instances in 10.1884770393 seconds "
       ]
      },
      {
       "output_type": "stream",
       "stream": "stdout",
       "text": [
        "\r",
        "computed 26 instances in 10.5962870121 seconds "
       ]
      },
      {
       "output_type": "stream",
       "stream": "stdout",
       "text": [
        "\r",
        "computed 27 instances in 11.0046432018 seconds "
       ]
      },
      {
       "output_type": "stream",
       "stream": "stdout",
       "text": [
        "\r",
        "computed 28 instances in 11.4131970406 seconds "
       ]
      },
      {
       "output_type": "stream",
       "stream": "stdout",
       "text": [
        "\r",
        "computed 29 instances in 11.8199841976 seconds "
       ]
      },
      {
       "output_type": "stream",
       "stream": "stdout",
       "text": [
        "\r",
        "computed 30 instances in 12.2291431427 seconds "
       ]
      },
      {
       "output_type": "stream",
       "stream": "stdout",
       "text": [
        "\r",
        "computed 31 instances in 12.6358451843 seconds "
       ]
      },
      {
       "output_type": "stream",
       "stream": "stdout",
       "text": [
        "\r",
        "computed 32 instances in 13.0425701141 seconds "
       ]
      },
      {
       "output_type": "stream",
       "stream": "stdout",
       "text": [
        "\r",
        "computed 33 instances in 13.4525132179 seconds "
       ]
      },
      {
       "output_type": "stream",
       "stream": "stdout",
       "text": [
        "\r",
        "computed 34 instances in 13.8652040958 seconds "
       ]
      },
      {
       "output_type": "stream",
       "stream": "stdout",
       "text": [
        "\r",
        "computed 35 instances in 14.2775571346 seconds "
       ]
      },
      {
       "output_type": "stream",
       "stream": "stdout",
       "text": [
        "\r",
        "computed 36 instances in 14.6832380295 seconds "
       ]
      },
      {
       "output_type": "stream",
       "stream": "stdout",
       "text": [
        "\r",
        "computed 37 instances in 15.0893061161 seconds "
       ]
      },
      {
       "output_type": "stream",
       "stream": "stdout",
       "text": [
        "\r",
        "computed 38 instances in 15.4932742119 seconds "
       ]
      },
      {
       "output_type": "stream",
       "stream": "stdout",
       "text": [
        "\r",
        "computed 39 instances in 15.897808075 seconds "
       ]
      },
      {
       "output_type": "stream",
       "stream": "stdout",
       "text": [
        "\r",
        "computed 40 instances in 16.3032021523 seconds "
       ]
      },
      {
       "output_type": "stream",
       "stream": "stdout",
       "text": [
        "\r",
        "computed 41 instances in 16.7083141804 seconds "
       ]
      },
      {
       "output_type": "stream",
       "stream": "stdout",
       "text": [
        "\r",
        "computed 42 instances in 17.1166710854 seconds "
       ]
      },
      {
       "output_type": "stream",
       "stream": "stdout",
       "text": [
        "\r",
        "computed 43 instances in 17.5314881802 seconds "
       ]
      },
      {
       "output_type": "stream",
       "stream": "stdout",
       "text": [
        "\r",
        "computed 44 instances in 17.938131094 seconds "
       ]
      },
      {
       "output_type": "stream",
       "stream": "stdout",
       "text": [
        "\r",
        "computed 45 instances in 18.3434741497 seconds "
       ]
      },
      {
       "output_type": "stream",
       "stream": "stdout",
       "text": [
        "\r",
        "computed 46 instances in 18.7494990826 seconds "
       ]
      },
      {
       "output_type": "stream",
       "stream": "stdout",
       "text": [
        "\r",
        "computed 47 instances in 19.1535241604 seconds "
       ]
      },
      {
       "output_type": "stream",
       "stream": "stdout",
       "text": [
        "\r",
        "computed 48 instances in 19.5592660904 seconds "
       ]
      },
      {
       "output_type": "stream",
       "stream": "stdout",
       "text": [
        "\r",
        "computed 49 instances in 19.9670650959 seconds "
       ]
      },
      {
       "output_type": "stream",
       "stream": "stdout",
       "text": [
        "\r",
        "computed 50 instances in 20.3768031597 seconds "
       ]
      },
      {
       "output_type": "stream",
       "stream": "stdout",
       "text": [
        "\r",
        "computed 51 instances in 20.7890241146 seconds "
       ]
      },
      {
       "output_type": "stream",
       "stream": "stdout",
       "text": [
        "\r",
        "computed 52 instances in 21.1928231716 seconds "
       ]
      },
      {
       "output_type": "stream",
       "stream": "stdout",
       "text": [
        "\r",
        "computed 53 instances in 21.5961802006 seconds "
       ]
      },
      {
       "output_type": "stream",
       "stream": "stdout",
       "text": [
        "\r",
        "computed 54 instances in 22.0058681965 seconds "
       ]
      },
      {
       "output_type": "stream",
       "stream": "stdout",
       "text": [
        "\r",
        "computed 55 instances in 22.4077830315 seconds "
       ]
      },
      {
       "output_type": "stream",
       "stream": "stdout",
       "text": [
        "\r",
        "computed 56 instances in 22.8140931129 seconds "
       ]
      },
      {
       "output_type": "stream",
       "stream": "stdout",
       "text": [
        "\r",
        "computed 57 instances in 23.2163159847 seconds "
       ]
      },
      {
       "output_type": "stream",
       "stream": "stdout",
       "text": [
        "\r",
        "computed 58 instances in 23.6223649979 seconds "
       ]
      },
      {
       "output_type": "stream",
       "stream": "stdout",
       "text": [
        "\r",
        "computed 59 instances in 24.0269360542 seconds "
       ]
      },
      {
       "output_type": "stream",
       "stream": "stdout",
       "text": [
        "\r",
        "computed 60 instances in 24.4318840504 seconds "
       ]
      },
      {
       "output_type": "stream",
       "stream": "stdout",
       "text": [
        "\r",
        "computed 61 instances in 24.8355371952 seconds "
       ]
      },
      {
       "output_type": "stream",
       "stream": "stdout",
       "text": [
        "\r",
        "computed 62 instances in 25.2410061359 seconds "
       ]
      },
      {
       "output_type": "stream",
       "stream": "stdout",
       "text": [
        "\r",
        "computed 63 instances in 25.6433691978 seconds "
       ]
      },
      {
       "output_type": "stream",
       "stream": "stdout",
       "text": [
        "\r",
        "computed 64 instances in 26.0493052006 seconds "
       ]
      },
      {
       "output_type": "stream",
       "stream": "stdout",
       "text": [
        "\r",
        "computed 65 instances in 26.4536921978 seconds "
       ]
      },
      {
       "output_type": "stream",
       "stream": "stdout",
       "text": [
        "\r",
        "computed 66 instances in 26.8656702042 seconds "
       ]
      },
      {
       "output_type": "stream",
       "stream": "stdout",
       "text": [
        "\r",
        "computed 67 instances in 27.2833120823 seconds "
       ]
      },
      {
       "output_type": "stream",
       "stream": "stdout",
       "text": [
        "\r",
        "computed 68 instances in 27.6996660233 seconds "
       ]
      },
      {
       "output_type": "stream",
       "stream": "stdout",
       "text": [
        "\r",
        "computed 69 instances in 28.104539156 seconds "
       ]
      },
      {
       "output_type": "stream",
       "stream": "stdout",
       "text": [
        "\r",
        "computed 70 instances in 28.5120391846 seconds "
       ]
      },
      {
       "output_type": "stream",
       "stream": "stdout",
       "text": [
        "\r",
        "computed 71 instances in 28.9441511631 seconds "
       ]
      },
      {
       "output_type": "stream",
       "stream": "stdout",
       "text": [
        "\r",
        "computed 72 instances in 29.3691902161 seconds "
       ]
      },
      {
       "output_type": "stream",
       "stream": "stdout",
       "text": [
        "\r",
        "computed 73 instances in 29.8139631748 seconds "
       ]
      },
      {
       "output_type": "stream",
       "stream": "stdout",
       "text": [
        "\r",
        "computed 74 instances in 30.2301650047 seconds "
       ]
      },
      {
       "output_type": "stream",
       "stream": "stdout",
       "text": [
        "\r",
        "computed 75 instances in 30.6447820663 seconds "
       ]
      },
      {
       "output_type": "stream",
       "stream": "stdout",
       "text": [
        "\r",
        "computed 76 instances in 31.0500609875 seconds "
       ]
      },
      {
       "output_type": "stream",
       "stream": "stdout",
       "text": [
        "\r",
        "computed 77 instances in 31.4534621239 seconds "
       ]
      },
      {
       "output_type": "stream",
       "stream": "stdout",
       "text": [
        "\r",
        "computed 78 instances in 31.8629751205 seconds "
       ]
      },
      {
       "output_type": "stream",
       "stream": "stdout",
       "text": [
        "\r",
        "computed 79 instances in 32.2822921276 seconds "
       ]
      },
      {
       "output_type": "stream",
       "stream": "stdout",
       "text": [
        "\r",
        "computed 80 instances in 32.6906740665 seconds "
       ]
      },
      {
       "output_type": "stream",
       "stream": "stdout",
       "text": [
        "\r",
        "computed 81 instances in 33.1052060127 seconds "
       ]
      },
      {
       "output_type": "stream",
       "stream": "stdout",
       "text": [
        "\r",
        "computed 82 instances in 33.5104000568 seconds "
       ]
      },
      {
       "output_type": "stream",
       "stream": "stdout",
       "text": [
        "\r",
        "computed 83 instances in 33.9163620472 seconds "
       ]
      },
      {
       "output_type": "stream",
       "stream": "stdout",
       "text": [
        "\r",
        "computed 84 instances in 34.336053133 seconds "
       ]
      },
      {
       "output_type": "stream",
       "stream": "stdout",
       "text": [
        "\r",
        "computed 85 instances in 34.7476890087 seconds "
       ]
      },
      {
       "output_type": "stream",
       "stream": "stdout",
       "text": [
        "\r",
        "computed 86 instances in 35.1530230045 seconds "
       ]
      },
      {
       "output_type": "stream",
       "stream": "stdout",
       "text": [
        "\r",
        "computed 87 instances in 35.5572462082 seconds "
       ]
      },
      {
       "output_type": "stream",
       "stream": "stdout",
       "text": [
        "\r",
        "computed 88 instances in 35.9610071182 seconds "
       ]
      },
      {
       "output_type": "stream",
       "stream": "stdout",
       "text": [
        "\r",
        "computed 89 instances in 36.3650770187 seconds "
       ]
      },
      {
       "output_type": "stream",
       "stream": "stdout",
       "text": [
        "\r",
        "computed 90 instances in 36.7700071335 seconds "
       ]
      },
      {
       "output_type": "stream",
       "stream": "stdout",
       "text": [
        "\r",
        "computed 91 instances in 37.1785030365 seconds "
       ]
      },
      {
       "output_type": "stream",
       "stream": "stdout",
       "text": [
        "\r",
        "computed 92 instances in 37.6055490971 seconds "
       ]
      },
      {
       "output_type": "stream",
       "stream": "stdout",
       "text": [
        "\r",
        "computed 93 instances in 38.0110740662 seconds "
       ]
      },
      {
       "output_type": "stream",
       "stream": "stdout",
       "text": [
        "\r",
        "computed 94 instances in 38.4185881615 seconds "
       ]
      },
      {
       "output_type": "stream",
       "stream": "stdout",
       "text": [
        "\r",
        "computed 95 instances in 38.822343111 seconds "
       ]
      },
      {
       "output_type": "stream",
       "stream": "stdout",
       "text": [
        "\r",
        "computed 96 instances in 39.2288060188 seconds "
       ]
      },
      {
       "output_type": "stream",
       "stream": "stdout",
       "text": [
        "\r",
        "computed 97 instances in 39.6436891556 seconds "
       ]
      },
      {
       "output_type": "stream",
       "stream": "stdout",
       "text": [
        "\r",
        "computed 98 instances in 40.0548260212 seconds "
       ]
      },
      {
       "output_type": "stream",
       "stream": "stdout",
       "text": [
        "\r",
        "computed 99 instances in 40.4589281082 seconds "
       ]
      },
      {
       "output_type": "stream",
       "stream": "stdout",
       "text": [
        "\r",
        "computed 100 instances in 40.8685631752 seconds "
       ]
      },
      {
       "output_type": "stream",
       "stream": "stdout",
       "text": [
        "\r",
        "computed 101 instances in 41.2725641727 seconds "
       ]
      },
      {
       "output_type": "stream",
       "stream": "stdout",
       "text": [
        "\r",
        "computed 102 instances in 41.6785230637 seconds "
       ]
      },
      {
       "output_type": "stream",
       "stream": "stdout",
       "text": [
        "\r",
        "computed 103 instances in 42.0845890045 seconds "
       ]
      },
      {
       "output_type": "stream",
       "stream": "stdout",
       "text": [
        "\r",
        "computed 104 instances in 42.4922220707 seconds "
       ]
      },
      {
       "output_type": "stream",
       "stream": "stdout",
       "text": [
        "\r",
        "computed 105 instances in 42.9080550671 seconds "
       ]
      },
      {
       "output_type": "stream",
       "stream": "stdout",
       "text": [
        "\r",
        "computed 106 instances in 43.3160631657 seconds "
       ]
      },
      {
       "output_type": "stream",
       "stream": "stdout",
       "text": [
        "\r",
        "computed 107 instances in 43.7219371796 seconds "
       ]
      },
      {
       "output_type": "stream",
       "stream": "stdout",
       "text": [
        "\r",
        "computed 108 instances in 44.1443340778 seconds "
       ]
      },
      {
       "output_type": "stream",
       "stream": "stdout",
       "text": [
        "\r",
        "computed 109 instances in 44.5793302059 seconds "
       ]
      },
      {
       "output_type": "stream",
       "stream": "stdout",
       "text": [
        "\r",
        "computed 110 instances in 45.0038230419 seconds "
       ]
      },
      {
       "output_type": "stream",
       "stream": "stdout",
       "text": [
        "\r",
        "computed 111 instances in 45.4202861786 seconds "
       ]
      },
      {
       "output_type": "stream",
       "stream": "stdout",
       "text": [
        "\r",
        "computed 112 instances in 45.8357121944 seconds "
       ]
      },
      {
       "output_type": "stream",
       "stream": "stdout",
       "text": [
        "\r",
        "computed 113 instances in 46.2534031868 seconds "
       ]
      },
      {
       "output_type": "stream",
       "stream": "stdout",
       "text": [
        "\r",
        "computed 114 instances in 46.666727066 seconds "
       ]
      },
      {
       "output_type": "stream",
       "stream": "stdout",
       "text": [
        "\r",
        "computed 115 instances in 47.0935311317 seconds "
       ]
      },
      {
       "output_type": "stream",
       "stream": "stdout",
       "text": [
        "\r",
        "computed 116 instances in 47.5124330521 seconds "
       ]
      },
      {
       "output_type": "stream",
       "stream": "stdout",
       "text": [
        "\r",
        "computed 117 instances in 47.9342110157 seconds "
       ]
      },
      {
       "output_type": "stream",
       "stream": "stdout",
       "text": [
        "\r",
        "computed 118 instances in 48.3641140461 seconds "
       ]
      },
      {
       "output_type": "stream",
       "stream": "stdout",
       "text": [
        "\r",
        "computed 119 instances in 48.7789452076 seconds "
       ]
      },
      {
       "output_type": "stream",
       "stream": "stdout",
       "text": [
        "\r",
        "computed 120 instances in 49.1901710033 seconds "
       ]
      },
      {
       "output_type": "stream",
       "stream": "stdout",
       "text": [
        "\r",
        "computed 121 instances in 49.5947570801 seconds "
       ]
      },
      {
       "output_type": "stream",
       "stream": "stdout",
       "text": [
        "\r",
        "computed 122 instances in 49.9999520779 seconds "
       ]
      },
      {
       "output_type": "stream",
       "stream": "stdout",
       "text": [
        "\r",
        "computed 123 instances in 50.4035232067 seconds "
       ]
      },
      {
       "output_type": "stream",
       "stream": "stdout",
       "text": [
        "\r",
        "computed 124 instances in 50.8209950924 seconds "
       ]
      },
      {
       "output_type": "stream",
       "stream": "stdout",
       "text": [
        "\r",
        "computed 125 instances in 51.2257421017 seconds "
       ]
      },
      {
       "output_type": "stream",
       "stream": "stdout",
       "text": [
        "\r",
        "computed 126 instances in 51.6325240135 seconds "
       ]
      },
      {
       "output_type": "stream",
       "stream": "stdout",
       "text": [
        "\r",
        "computed 127 instances in 52.0357401371 seconds "
       ]
      },
      {
       "output_type": "stream",
       "stream": "stdout",
       "text": [
        "\r",
        "computed 128 instances in 52.4418210983 seconds "
       ]
      },
      {
       "output_type": "stream",
       "stream": "stdout",
       "text": [
        "\r",
        "computed 129 instances in 52.8475811481 seconds "
       ]
      },
      {
       "output_type": "stream",
       "stream": "stdout",
       "text": [
        "\r",
        "computed 130 instances in 53.2542641163 seconds "
       ]
      },
      {
       "output_type": "stream",
       "stream": "stdout",
       "text": [
        "\r",
        "computed 131 instances in 53.6587381363 seconds "
       ]
      },
      {
       "output_type": "stream",
       "stream": "stdout",
       "text": [
        "\r",
        "computed 132 instances in 54.0661580563 seconds "
       ]
      },
      {
       "output_type": "stream",
       "stream": "stdout",
       "text": [
        "\r",
        "computed 133 instances in 54.4710772038 seconds "
       ]
      },
      {
       "output_type": "stream",
       "stream": "stdout",
       "text": [
        "\r",
        "computed 134 instances in 54.8809001446 seconds "
       ]
      },
      {
       "output_type": "stream",
       "stream": "stdout",
       "text": [
        "\r",
        "computed 135 instances in 55.2888560295 seconds "
       ]
      },
      {
       "output_type": "stream",
       "stream": "stdout",
       "text": [
        "\r",
        "computed 136 instances in 55.6980941296 seconds "
       ]
      },
      {
       "output_type": "stream",
       "stream": "stdout",
       "text": [
        "\r",
        "computed 137 instances in 56.1019511223 seconds "
       ]
      },
      {
       "output_type": "stream",
       "stream": "stdout",
       "text": [
        "\r",
        "computed 138 instances in 56.5071721077 seconds "
       ]
      },
      {
       "output_type": "stream",
       "stream": "stdout",
       "text": [
        "\r",
        "computed 139 instances in 56.9108810425 seconds "
       ]
      },
      {
       "output_type": "stream",
       "stream": "stdout",
       "text": [
        "\r",
        "computed 140 instances in 57.3178031445 seconds "
       ]
      },
      {
       "output_type": "stream",
       "stream": "stdout",
       "text": [
        "\r",
        "computed 141 instances in 57.7241179943 seconds "
       ]
      },
      {
       "output_type": "stream",
       "stream": "stdout",
       "text": [
        "\r",
        "computed 142 instances in 58.1346600056 seconds "
       ]
      },
      {
       "output_type": "stream",
       "stream": "stdout",
       "text": [
        "\r",
        "computed 143 instances in 58.558765173 seconds "
       ]
      },
      {
       "output_type": "stream",
       "stream": "stdout",
       "text": [
        "\r",
        "computed 144 instances in 58.9690070152 seconds "
       ]
      },
      {
       "output_type": "stream",
       "stream": "stdout",
       "text": [
        "\r",
        "computed 145 instances in 59.3760020733 seconds "
       ]
      },
      {
       "output_type": "stream",
       "stream": "stdout",
       "text": [
        "\r",
        "computed 146 instances in 59.7829601765 seconds "
       ]
      },
      {
       "output_type": "stream",
       "stream": "stdout",
       "text": [
        "\r",
        "computed 147 instances in 60.2005980015 seconds "
       ]
      },
      {
       "output_type": "stream",
       "stream": "stdout",
       "text": [
        "\r",
        "computed 148 instances in 60.6056292057 seconds "
       ]
      },
      {
       "output_type": "stream",
       "stream": "stdout",
       "text": [
        "\r",
        "computed 149 instances in 61.0112860203 seconds "
       ]
      },
      {
       "output_type": "stream",
       "stream": "stdout",
       "text": [
        "\r",
        "computed 150 instances in 61.4182260036 seconds "
       ]
      },
      {
       "output_type": "stream",
       "stream": "stdout",
       "text": [
        "\r",
        "computed 151 instances in 61.8223659992 seconds "
       ]
      },
      {
       "output_type": "stream",
       "stream": "stdout",
       "text": [
        "\r",
        "computed 152 instances in 62.2281219959 seconds "
       ]
      },
      {
       "output_type": "stream",
       "stream": "stdout",
       "text": [
        "\r",
        "computed 153 instances in 62.6324641705 seconds "
       ]
      },
      {
       "output_type": "stream",
       "stream": "stdout",
       "text": [
        "\r",
        "computed 154 instances in 63.0384361744 seconds "
       ]
      },
      {
       "output_type": "stream",
       "stream": "stdout",
       "text": [
        "\r",
        "computed 155 instances in 63.4410681725 seconds "
       ]
      },
      {
       "output_type": "stream",
       "stream": "stdout",
       "text": [
        "\r",
        "computed 156 instances in 63.8488471508 seconds "
       ]
      },
      {
       "output_type": "stream",
       "stream": "stdout",
       "text": [
        "\r",
        "computed 157 instances in 64.2524101734 seconds "
       ]
      },
      {
       "output_type": "stream",
       "stream": "stdout",
       "text": [
        "\r",
        "computed 158 instances in 64.6604611874 seconds "
       ]
      },
      {
       "output_type": "stream",
       "stream": "stdout",
       "text": [
        "\r",
        "computed 159 instances in 65.0637722015 seconds "
       ]
      },
      {
       "output_type": "stream",
       "stream": "stdout",
       "text": [
        "\r",
        "computed 160 instances in 65.4708361626 seconds "
       ]
      },
      {
       "output_type": "stream",
       "stream": "stdout",
       "text": [
        "\r",
        "computed 161 instances in 65.8758630753 seconds "
       ]
      },
      {
       "output_type": "stream",
       "stream": "stdout",
       "text": [
        "\r",
        "computed 162 instances in 66.282487154 seconds "
       ]
      },
      {
       "output_type": "stream",
       "stream": "stdout",
       "text": [
        "\r",
        "computed 163 instances in 66.7026250362 seconds "
       ]
      },
      {
       "output_type": "stream",
       "stream": "stdout",
       "text": [
        "\r",
        "computed 164 instances in 67.1072320938 seconds "
       ]
      },
      {
       "output_type": "stream",
       "stream": "stdout",
       "text": [
        "\r",
        "computed 165 instances in 67.5135681629 seconds "
       ]
      },
      {
       "output_type": "stream",
       "stream": "stdout",
       "text": [
        "\r",
        "computed 166 instances in 67.9205760956 seconds "
       ]
      },
      {
       "output_type": "stream",
       "stream": "stdout",
       "text": [
        "\r",
        "computed 167 instances in 68.3254790306 seconds "
       ]
      },
      {
       "output_type": "stream",
       "stream": "stdout",
       "text": [
        "\r",
        "computed 168 instances in 68.7324399948 seconds "
       ]
      },
      {
       "output_type": "stream",
       "stream": "stdout",
       "text": [
        "\r",
        "computed 169 instances in 69.144395113 seconds "
       ]
      },
      {
       "output_type": "stream",
       "stream": "stdout",
       "text": [
        "\r",
        "computed 170 instances in 69.5486690998 seconds "
       ]
      },
      {
       "output_type": "stream",
       "stream": "stdout",
       "text": [
        "\r",
        "computed 171 instances in 69.9543139935 seconds "
       ]
      },
      {
       "output_type": "stream",
       "stream": "stdout",
       "text": [
        "\r",
        "computed 172 instances in 70.3582501411 seconds "
       ]
      },
      {
       "output_type": "stream",
       "stream": "stdout",
       "text": [
        "\r",
        "computed 173 instances in 70.763092041 seconds "
       ]
      },
      {
       "output_type": "stream",
       "stream": "stdout",
       "text": [
        "\r",
        "computed 174 instances in 71.1696870327 seconds "
       ]
      },
      {
       "output_type": "stream",
       "stream": "stdout",
       "text": [
        "\r",
        "computed 175 instances in 71.579223156 seconds "
       ]
      },
      {
       "output_type": "stream",
       "stream": "stdout",
       "text": [
        "\r",
        "computed 176 instances in 71.9874529839 seconds "
       ]
      },
      {
       "output_type": "stream",
       "stream": "stdout",
       "text": [
        "\r",
        "computed 177 instances in 72.3910191059 seconds "
       ]
      },
      {
       "output_type": "stream",
       "stream": "stdout",
       "text": [
        "\r",
        "computed 178 instances in 72.8056740761 seconds "
       ]
      },
      {
       "output_type": "stream",
       "stream": "stdout",
       "text": [
        "\r",
        "computed 179 instances in 73.2092990875 seconds "
       ]
      },
      {
       "output_type": "stream",
       "stream": "stdout",
       "text": [
        "\r",
        "computed 180 instances in 73.6139640808 seconds "
       ]
      },
      {
       "output_type": "stream",
       "stream": "stdout",
       "text": [
        "\r",
        "computed 181 instances in 74.0185680389 seconds "
       ]
      },
      {
       "output_type": "stream",
       "stream": "stdout",
       "text": [
        "\r",
        "computed 182 instances in 74.422713995 seconds "
       ]
      },
      {
       "output_type": "stream",
       "stream": "stdout",
       "text": [
        "\r",
        "computed 183 instances in 74.8279111385 seconds "
       ]
      },
      {
       "output_type": "stream",
       "stream": "stdout",
       "text": [
        "\r",
        "computed 184 instances in 75.2337031364 seconds "
       ]
      },
      {
       "output_type": "stream",
       "stream": "stdout",
       "text": [
        "\r",
        "computed 185 instances in 75.6380620003 seconds "
       ]
      },
      {
       "output_type": "stream",
       "stream": "stdout",
       "text": [
        "\r",
        "computed 186 instances in 76.0394721031 seconds "
       ]
      },
      {
       "output_type": "stream",
       "stream": "stdout",
       "text": [
        "\r",
        "computed 187 instances in 76.4438099861 seconds "
       ]
      },
      {
       "output_type": "stream",
       "stream": "stdout",
       "text": [
        "\r",
        "computed 188 instances in 76.8495891094 seconds "
       ]
      },
      {
       "output_type": "stream",
       "stream": "stdout",
       "text": [
        "\r",
        "computed 189 instances in 77.2546560764 seconds "
       ]
      },
      {
       "output_type": "stream",
       "stream": "stdout",
       "text": [
        "\r",
        "computed 190 instances in 77.6621870995 seconds "
       ]
      },
      {
       "output_type": "stream",
       "stream": "stdout",
       "text": [
        "\r",
        "computed 191 instances in 78.0697381496 seconds "
       ]
      },
      {
       "output_type": "stream",
       "stream": "stdout",
       "text": [
        "\r",
        "computed 192 instances in 78.4794750214 seconds "
       ]
      },
      {
       "output_type": "stream",
       "stream": "stdout",
       "text": [
        "\r",
        "computed 193 instances in 78.8944180012 seconds "
       ]
      },
      {
       "output_type": "stream",
       "stream": "stdout",
       "text": [
        "\r",
        "computed 194 instances in 79.3003630638 seconds "
       ]
      },
      {
       "output_type": "stream",
       "stream": "stdout",
       "text": [
        "\r",
        "computed 195 instances in 79.7033390999 seconds "
       ]
      },
      {
       "output_type": "stream",
       "stream": "stdout",
       "text": [
        "\r",
        "computed 196 instances in 80.1078000069 seconds "
       ]
      },
      {
       "output_type": "stream",
       "stream": "stdout",
       "text": [
        "\r",
        "computed 197 instances in 80.5154352188 seconds "
       ]
      },
      {
       "output_type": "stream",
       "stream": "stdout",
       "text": [
        "\r",
        "computed 198 instances in 80.920014143 seconds "
       ]
      },
      {
       "output_type": "stream",
       "stream": "stdout",
       "text": [
        "\r",
        "computed 199 instances in 81.3266031742 seconds "
       ]
      },
      {
       "output_type": "stream",
       "stream": "stdout",
       "text": [
        "\r",
        "computed 200 instances in 81.739855051 seconds "
       ]
      },
      {
       "output_type": "stream",
       "stream": "stdout",
       "text": [
        "\r",
        "computed 201 instances in 82.1594471931 seconds "
       ]
      },
      {
       "output_type": "stream",
       "stream": "stdout",
       "text": [
        "\r",
        "computed 202 instances in 82.5667641163 seconds "
       ]
      },
      {
       "output_type": "stream",
       "stream": "stdout",
       "text": [
        "\r",
        "computed 203 instances in 82.9759821892 seconds "
       ]
      },
      {
       "output_type": "stream",
       "stream": "stdout",
       "text": [
        "\r",
        "computed 204 instances in 83.3879511356 seconds "
       ]
      },
      {
       "output_type": "stream",
       "stream": "stdout",
       "text": [
        "\r",
        "computed 205 instances in 83.8135931492 seconds "
       ]
      },
      {
       "output_type": "stream",
       "stream": "stdout",
       "text": [
        "\r",
        "computed 206 instances in 84.2450749874 seconds "
       ]
      },
      {
       "output_type": "stream",
       "stream": "stdout",
       "text": [
        "\r",
        "computed 207 instances in 84.6598341465 seconds "
       ]
      },
      {
       "output_type": "stream",
       "stream": "stdout",
       "text": [
        "\r",
        "computed 208 instances in 85.0676121712 seconds "
       ]
      },
      {
       "output_type": "stream",
       "stream": "stdout",
       "text": [
        "\r",
        "computed 209 instances in 85.4731001854 seconds "
       ]
      },
      {
       "output_type": "stream",
       "stream": "stdout",
       "text": [
        "\r",
        "computed 210 instances in 85.8772552013 seconds "
       ]
      },
      {
       "output_type": "stream",
       "stream": "stdout",
       "text": [
        "\r",
        "computed 211 instances in 86.2853500843 seconds "
       ]
      },
      {
       "output_type": "stream",
       "stream": "stdout",
       "text": [
        "\r",
        "computed 212 instances in 86.7021291256 seconds "
       ]
      },
      {
       "output_type": "stream",
       "stream": "stdout",
       "text": [
        "\r",
        "computed 213 instances in 87.1115181446 seconds "
       ]
      },
      {
       "output_type": "stream",
       "stream": "stdout",
       "text": [
        "\r",
        "computed 214 instances in 87.5240461826 seconds "
       ]
      },
      {
       "output_type": "stream",
       "stream": "stdout",
       "text": [
        "\r",
        "computed 215 instances in 87.932254076 seconds "
       ]
      },
      {
       "output_type": "stream",
       "stream": "stdout",
       "text": [
        "\r",
        "computed 216 instances in 88.3404631615 seconds "
       ]
      },
      {
       "output_type": "stream",
       "stream": "stdout",
       "text": [
        "\r",
        "computed 217 instances in 88.749407053 seconds "
       ]
      },
      {
       "output_type": "stream",
       "stream": "stdout",
       "text": [
        "\r",
        "computed 218 instances in 89.1558020115 seconds "
       ]
      },
      {
       "output_type": "stream",
       "stream": "stdout",
       "text": [
        "\r",
        "computed 219 instances in 89.5618541241 seconds "
       ]
      },
      {
       "output_type": "stream",
       "stream": "stdout",
       "text": [
        "\r",
        "computed 220 instances in 89.9720811844 seconds "
       ]
      },
      {
       "output_type": "stream",
       "stream": "stdout",
       "text": [
        "\r",
        "computed 221 instances in 90.4071350098 seconds "
       ]
      },
      {
       "output_type": "stream",
       "stream": "stdout",
       "text": [
        "\r",
        "computed 222 instances in 90.8297669888 seconds "
       ]
      },
      {
       "output_type": "stream",
       "stream": "stdout",
       "text": [
        "\r",
        "computed 223 instances in 91.2580990791 seconds "
       ]
      },
      {
       "output_type": "stream",
       "stream": "stdout",
       "text": [
        "\r",
        "computed 224 instances in 91.674090147 seconds "
       ]
      },
      {
       "output_type": "stream",
       "stream": "stdout",
       "text": [
        "\r",
        "computed 225 instances in 92.0922122002 seconds "
       ]
      },
      {
       "output_type": "stream",
       "stream": "stdout",
       "text": [
        "\r",
        "computed 226 instances in 92.5099990368 seconds "
       ]
      },
      {
       "output_type": "stream",
       "stream": "stdout",
       "text": [
        "\r",
        "computed 227 instances in 92.9319980145 seconds "
       ]
      },
      {
       "output_type": "stream",
       "stream": "stdout",
       "text": [
        "\r",
        "computed 228 instances in 93.3593511581 seconds "
       ]
      },
      {
       "output_type": "stream",
       "stream": "stdout",
       "text": [
        "\r",
        "computed 229 instances in 93.7811350822 seconds "
       ]
      },
      {
       "output_type": "stream",
       "stream": "stdout",
       "text": [
        "\r",
        "computed 230 instances in 94.2161221504 seconds "
       ]
      },
      {
       "output_type": "stream",
       "stream": "stdout",
       "text": [
        "\r",
        "computed 231 instances in 94.6346900463 seconds "
       ]
      },
      {
       "output_type": "stream",
       "stream": "stdout",
       "text": [
        "\r",
        "computed 232 instances in 95.0525381565 seconds "
       ]
      },
      {
       "output_type": "stream",
       "stream": "stdout",
       "text": [
        "\r",
        "computed 233 instances in 95.4728469849 seconds "
       ]
      },
      {
       "output_type": "stream",
       "stream": "stdout",
       "text": [
        "\r",
        "computed 234 instances in 95.8885490894 seconds "
       ]
      },
      {
       "output_type": "stream",
       "stream": "stdout",
       "text": [
        "\r",
        "computed 235 instances in 96.2979290485 seconds "
       ]
      },
      {
       "output_type": "stream",
       "stream": "stdout",
       "text": [
        "\r",
        "computed 236 instances in 96.7124900818 seconds "
       ]
      },
      {
       "output_type": "stream",
       "stream": "stdout",
       "text": [
        "\r",
        "computed 237 instances in 97.1206359863 seconds "
       ]
      },
      {
       "output_type": "stream",
       "stream": "stdout",
       "text": [
        "\r",
        "computed 238 instances in 97.525963068 seconds "
       ]
      },
      {
       "output_type": "stream",
       "stream": "stdout",
       "text": [
        "\r",
        "computed 239 instances in 97.9354610443 seconds "
       ]
      },
      {
       "output_type": "stream",
       "stream": "stdout",
       "text": [
        "\r",
        "computed 240 instances in 98.3425631523 seconds "
       ]
      },
      {
       "output_type": "stream",
       "stream": "stdout",
       "text": [
        "\r",
        "computed 241 instances in 98.7605981827 seconds "
       ]
      },
      {
       "output_type": "stream",
       "stream": "stdout",
       "text": [
        "\r",
        "computed 242 instances in 99.1912400723 seconds "
       ]
      },
      {
       "output_type": "stream",
       "stream": "stdout",
       "text": [
        "\r",
        "computed 243 instances in 99.5966050625 seconds "
       ]
      },
      {
       "output_type": "stream",
       "stream": "stdout",
       "text": [
        "\r",
        "computed 244 instances in 100.002224207 seconds "
       ]
      },
      {
       "output_type": "stream",
       "stream": "stdout",
       "text": [
        "\r",
        "computed 245 instances in 100.408608198 seconds "
       ]
      },
      {
       "output_type": "stream",
       "stream": "stdout",
       "text": [
        "\r",
        "computed 246 instances in 100.814947128 seconds "
       ]
      },
      {
       "output_type": "stream",
       "stream": "stdout",
       "text": [
        "\r",
        "computed 247 instances in 101.220172167 seconds "
       ]
      },
      {
       "output_type": "stream",
       "stream": "stdout",
       "text": [
        "\r",
        "computed 248 instances in 101.624922037 seconds "
       ]
      },
      {
       "output_type": "stream",
       "stream": "stdout",
       "text": [
        "\r",
        "computed 249 instances in 102.030972004 seconds "
       ]
      },
      {
       "output_type": "stream",
       "stream": "stdout",
       "text": [
        "\r",
        "computed 250 instances in 102.435707092 seconds "
       ]
      },
      {
       "output_type": "stream",
       "stream": "stdout",
       "text": [
        "\r",
        "computed 251 instances in 102.842578173 seconds "
       ]
      },
      {
       "output_type": "stream",
       "stream": "stdout",
       "text": [
        "\r",
        "computed 252 instances in 103.248011112 seconds "
       ]
      },
      {
       "output_type": "stream",
       "stream": "stdout",
       "text": [
        "\r",
        "computed 253 instances in 103.65508604 seconds "
       ]
      },
      {
       "output_type": "stream",
       "stream": "stdout",
       "text": [
        "\r",
        "computed 254 instances in 104.06091404 seconds "
       ]
      },
      {
       "output_type": "stream",
       "stream": "stdout",
       "text": [
        "\r",
        "computed 255 instances in 104.468965054 seconds "
       ]
      },
      {
       "output_type": "stream",
       "stream": "stdout",
       "text": [
        "\r",
        "computed 256 instances in 104.876039028 seconds "
       ]
      },
      {
       "output_type": "stream",
       "stream": "stdout",
       "text": [
        "\r",
        "computed 257 instances in 105.284290075 seconds "
       ]
      },
      {
       "output_type": "stream",
       "stream": "stdout",
       "text": [
        "\r",
        "computed 258 instances in 105.688897133 seconds "
       ]
      },
      {
       "output_type": "stream",
       "stream": "stdout",
       "text": [
        "\r",
        "computed 259 instances in 106.098034143 seconds "
       ]
      },
      {
       "output_type": "stream",
       "stream": "stdout",
       "text": [
        "\r",
        "computed 260 instances in 106.503491163 seconds "
       ]
      },
      {
       "output_type": "stream",
       "stream": "stdout",
       "text": [
        "\r",
        "computed 261 instances in 106.912432194 seconds "
       ]
      },
      {
       "output_type": "stream",
       "stream": "stdout",
       "text": [
        "\r",
        "computed 262 instances in 107.317956209 seconds "
       ]
      },
      {
       "output_type": "stream",
       "stream": "stdout",
       "text": [
        "\r",
        "computed 263 instances in 107.728950024 seconds "
       ]
      },
      {
       "output_type": "stream",
       "stream": "stdout",
       "text": [
        "\r",
        "computed 264 instances in 108.13658905 seconds "
       ]
      },
      {
       "output_type": "stream",
       "stream": "stdout",
       "text": [
        "\r",
        "computed 265 instances in 108.546274185 seconds "
       ]
      },
      {
       "output_type": "stream",
       "stream": "stdout",
       "text": [
        "\r",
        "computed 266 instances in 108.951865196 seconds "
       ]
      },
      {
       "output_type": "stream",
       "stream": "stdout",
       "text": [
        "\r",
        "computed 267 instances in 109.359638214 seconds "
       ]
      },
      {
       "output_type": "stream",
       "stream": "stdout",
       "text": [
        "\r",
        "computed 268 instances in 109.76564312 seconds "
       ]
      },
      {
       "output_type": "stream",
       "stream": "stdout",
       "text": [
        "\r",
        "computed 269 instances in 110.172219992 seconds "
       ]
      },
      {
       "output_type": "stream",
       "stream": "stdout",
       "text": [
        "\r",
        "computed 270 instances in 110.577623129 seconds "
       ]
      },
      {
       "output_type": "stream",
       "stream": "stdout",
       "text": [
        "\r",
        "computed 271 instances in 110.985554218 seconds "
       ]
      },
      {
       "output_type": "stream",
       "stream": "stdout",
       "text": [
        "\r",
        "computed 272 instances in 111.390219212 seconds "
       ]
      },
      {
       "output_type": "stream",
       "stream": "stdout",
       "text": [
        "\r",
        "computed 273 instances in 111.799959183 seconds "
       ]
      },
      {
       "output_type": "stream",
       "stream": "stdout",
       "text": [
        "\r",
        "computed 274 instances in 112.205304146 seconds "
       ]
      },
      {
       "output_type": "stream",
       "stream": "stdout",
       "text": [
        "\r",
        "computed 275 instances in 112.614356041 seconds "
       ]
      },
      {
       "output_type": "stream",
       "stream": "stdout",
       "text": [
        "\r",
        "computed 276 instances in 113.020498991 seconds "
       ]
      },
      {
       "output_type": "stream",
       "stream": "stdout",
       "text": [
        "\r",
        "computed 277 instances in 113.426364183 seconds "
       ]
      },
      {
       "output_type": "stream",
       "stream": "stdout",
       "text": [
        "\r",
        "computed 278 instances in 113.831027985 seconds "
       ]
      },
      {
       "output_type": "stream",
       "stream": "stdout",
       "text": [
        "\r",
        "computed 279 instances in 114.240514994 seconds "
       ]
      },
      {
       "output_type": "stream",
       "stream": "stdout",
       "text": [
        "\r",
        "computed 280 instances in 114.646070004 seconds "
       ]
      },
      {
       "output_type": "stream",
       "stream": "stdout",
       "text": [
        "\r",
        "computed 281 instances in 115.05548811 seconds "
       ]
      },
      {
       "output_type": "stream",
       "stream": "stdout",
       "text": [
        "\r",
        "computed 282 instances in 115.460835218 seconds "
       ]
      },
      {
       "output_type": "stream",
       "stream": "stdout",
       "text": [
        "\r",
        "computed 283 instances in 115.870555162 seconds "
       ]
      },
      {
       "output_type": "stream",
       "stream": "stdout",
       "text": [
        "\r",
        "computed 284 instances in 116.285168171 seconds "
       ]
      },
      {
       "output_type": "stream",
       "stream": "stdout",
       "text": [
        "\r",
        "computed 285 instances in 116.695369005 seconds "
       ]
      },
      {
       "output_type": "stream",
       "stream": "stdout",
       "text": [
        "\r",
        "computed 286 instances in 117.126810074 seconds "
       ]
      },
      {
       "output_type": "stream",
       "stream": "stdout",
       "text": [
        "\r",
        "computed 287 instances in 117.534311056 seconds "
       ]
      },
      {
       "output_type": "stream",
       "stream": "stdout",
       "text": [
        "\r",
        "computed 288 instances in 117.956677198 seconds "
       ]
      },
      {
       "output_type": "stream",
       "stream": "stdout",
       "text": [
        "\r",
        "computed 289 instances in 118.372024059 seconds "
       ]
      },
      {
       "output_type": "stream",
       "stream": "stdout",
       "text": [
        "\r",
        "computed 290 instances in 118.778139114 seconds "
       ]
      },
      {
       "output_type": "stream",
       "stream": "stdout",
       "text": [
        "\r",
        "computed 291 instances in 119.189936161 seconds "
       ]
      },
      {
       "output_type": "stream",
       "stream": "stdout",
       "text": [
        "\r",
        "computed 292 instances in 119.602110147 seconds "
       ]
      },
      {
       "output_type": "stream",
       "stream": "stdout",
       "text": [
        "\r",
        "computed 293 instances in 120.011934996 seconds "
       ]
      },
      {
       "output_type": "stream",
       "stream": "stdout",
       "text": [
        "\r",
        "computed 294 instances in 120.424064159 seconds "
       ]
      },
      {
       "output_type": "stream",
       "stream": "stdout",
       "text": [
        "\r",
        "computed 295 instances in 120.847177029 seconds "
       ]
      },
      {
       "output_type": "stream",
       "stream": "stdout",
       "text": [
        "\r",
        "computed 296 instances in 121.2523911 seconds "
       ]
      },
      {
       "output_type": "stream",
       "stream": "stdout",
       "text": [
        "\r",
        "computed 297 instances in 121.655673027 seconds "
       ]
      },
      {
       "output_type": "stream",
       "stream": "stdout",
       "text": [
        "\r",
        "computed 298 instances in 122.059188128 seconds "
       ]
      },
      {
       "output_type": "stream",
       "stream": "stdout",
       "text": [
        "\r",
        "computed 299 instances in 122.461731195 seconds "
       ]
      },
      {
       "output_type": "stream",
       "stream": "stdout",
       "text": [
        "\r",
        "computed 300 instances in 122.876658201 seconds "
       ]
      },
      {
       "output_type": "stream",
       "stream": "stdout",
       "text": [
        "\r",
        "computed 301 instances in 123.28867507 seconds "
       ]
      },
      {
       "output_type": "stream",
       "stream": "stdout",
       "text": [
        "\r",
        "computed 302 instances in 123.695578098 seconds "
       ]
      },
      {
       "output_type": "stream",
       "stream": "stdout",
       "text": [
        "\r",
        "computed 303 instances in 124.10059309 seconds "
       ]
      },
      {
       "output_type": "stream",
       "stream": "stdout",
       "text": [
        "\r",
        "computed 304 instances in 124.507757187 seconds "
       ]
      },
      {
       "output_type": "stream",
       "stream": "stdout",
       "text": [
        "\r",
        "computed 305 instances in 124.915031195 seconds "
       ]
      },
      {
       "output_type": "stream",
       "stream": "stdout",
       "text": [
        "\r",
        "computed 306 instances in 125.325149059 seconds "
       ]
      },
      {
       "output_type": "stream",
       "stream": "stdout",
       "text": [
        "\r",
        "computed 307 instances in 125.731466055 seconds "
       ]
      },
      {
       "output_type": "stream",
       "stream": "stdout",
       "text": [
        "\r",
        "computed 308 instances in 126.139802217 seconds "
       ]
      },
      {
       "output_type": "stream",
       "stream": "stdout",
       "text": [
        "\r",
        "computed 309 instances in 126.547605991 seconds "
       ]
      },
      {
       "output_type": "stream",
       "stream": "stdout",
       "text": [
        "\r",
        "computed 310 instances in 126.957552195 seconds "
       ]
      },
      {
       "output_type": "stream",
       "stream": "stdout",
       "text": [
        "\r",
        "computed 311 instances in 127.365540981 seconds "
       ]
      },
      {
       "output_type": "stream",
       "stream": "stdout",
       "text": [
        "\r",
        "computed 312 instances in 127.776949167 seconds "
       ]
      },
      {
       "output_type": "stream",
       "stream": "stdout",
       "text": [
        "\r",
        "computed 313 instances in 128.189826012 seconds "
       ]
      },
      {
       "output_type": "stream",
       "stream": "stdout",
       "text": [
        "\r",
        "computed 314 instances in 128.611486197 seconds "
       ]
      },
      {
       "output_type": "stream",
       "stream": "stdout",
       "text": [
        "\r",
        "computed 315 instances in 129.034674168 seconds "
       ]
      },
      {
       "output_type": "stream",
       "stream": "stdout",
       "text": [
        "\r",
        "computed 316 instances in 129.456231117 seconds "
       ]
      },
      {
       "output_type": "stream",
       "stream": "stdout",
       "text": [
        "\r",
        "computed 317 instances in 129.867784023 seconds "
       ]
      },
      {
       "output_type": "stream",
       "stream": "stdout",
       "text": [
        "\r",
        "computed 318 instances in 130.27531004 seconds "
       ]
      },
      {
       "output_type": "stream",
       "stream": "stdout",
       "text": [
        "\r",
        "computed 319 instances in 130.679730177 seconds "
       ]
      },
      {
       "output_type": "stream",
       "stream": "stdout",
       "text": [
        "\r",
        "computed 320 instances in 131.091150045 seconds "
       ]
      },
      {
       "output_type": "stream",
       "stream": "stdout",
       "text": [
        "\r",
        "computed 321 instances in 131.495022058 seconds "
       ]
      },
      {
       "output_type": "stream",
       "stream": "stdout",
       "text": [
        "\r",
        "computed 322 instances in 131.90268302 seconds "
       ]
      },
      {
       "output_type": "stream",
       "stream": "stdout",
       "text": [
        "\r",
        "computed 323 instances in 132.306587219 seconds "
       ]
      },
      {
       "output_type": "stream",
       "stream": "stdout",
       "text": [
        "\r",
        "computed 324 instances in 132.713790178 seconds "
       ]
      },
      {
       "output_type": "stream",
       "stream": "stdout",
       "text": [
        "\r",
        "computed 325 instances in 133.117309093 seconds "
       ]
      },
      {
       "output_type": "stream",
       "stream": "stdout",
       "text": [
        "\r",
        "computed 326 instances in 133.524854183 seconds "
       ]
      },
      {
       "output_type": "stream",
       "stream": "stdout",
       "text": [
        "\r",
        "computed 327 instances in 133.929192066 seconds "
       ]
      },
      {
       "output_type": "stream",
       "stream": "stdout",
       "text": [
        "\r",
        "computed 328 instances in 134.337434053 seconds "
       ]
      },
      {
       "output_type": "stream",
       "stream": "stdout",
       "text": [
        "\r",
        "computed 329 instances in 134.748996019 seconds "
       ]
      },
      {
       "output_type": "stream",
       "stream": "stdout",
       "text": [
        "\r",
        "computed 330 instances in 135.161244154 seconds "
       ]
      },
      {
       "output_type": "stream",
       "stream": "stdout",
       "text": [
        "\r",
        "computed 331 instances in 135.569368124 seconds "
       ]
      },
      {
       "output_type": "stream",
       "stream": "stdout",
       "text": [
        "\r",
        "computed 332 instances in 135.977438211 seconds "
       ]
      },
      {
       "output_type": "stream",
       "stream": "stdout",
       "text": [
        "\r",
        "computed 333 instances in 136.381187201 seconds "
       ]
      },
      {
       "output_type": "stream",
       "stream": "stdout",
       "text": [
        "\r",
        "computed 334 instances in 136.7877841 seconds "
       ]
      },
      {
       "output_type": "stream",
       "stream": "stdout",
       "text": [
        "\r",
        "computed 335 instances in 137.191839218 seconds "
       ]
      },
      {
       "output_type": "stream",
       "stream": "stdout",
       "text": [
        "\r",
        "computed 336 instances in 137.598098993 seconds "
       ]
      },
      {
       "output_type": "stream",
       "stream": "stdout",
       "text": [
        "\r",
        "computed 337 instances in 138.003571033 seconds "
       ]
      },
      {
       "output_type": "stream",
       "stream": "stdout",
       "text": [
        "\r",
        "computed 338 instances in 138.409898996 seconds "
       ]
      },
      {
       "output_type": "stream",
       "stream": "stdout",
       "text": [
        "\r",
        "computed 339 instances in 138.818673134 seconds "
       ]
      },
      {
       "output_type": "stream",
       "stream": "stdout",
       "text": [
        "\r",
        "computed 340 instances in 139.231880188 seconds "
       ]
      },
      {
       "output_type": "stream",
       "stream": "stdout",
       "text": [
        "\r",
        "computed 341 instances in 139.650295019 seconds "
       ]
      },
      {
       "output_type": "stream",
       "stream": "stdout",
       "text": [
        "\r",
        "computed 342 instances in 140.067790985 seconds "
       ]
      },
      {
       "output_type": "stream",
       "stream": "stdout",
       "text": [
        "\r",
        "computed 343 instances in 140.474066019 seconds "
       ]
      },
      {
       "output_type": "stream",
       "stream": "stdout",
       "text": [
        "\r",
        "computed 344 instances in 140.885029078 seconds "
       ]
      },
      {
       "output_type": "stream",
       "stream": "stdout",
       "text": [
        "\r",
        "computed 345 instances in 141.297249079 seconds "
       ]
      },
      {
       "output_type": "stream",
       "stream": "stdout",
       "text": [
        "\r",
        "computed 346 instances in 141.70147109 seconds "
       ]
      },
      {
       "output_type": "stream",
       "stream": "stdout",
       "text": [
        "\r",
        "computed 347 instances in 142.108026981 seconds "
       ]
      },
      {
       "output_type": "stream",
       "stream": "stdout",
       "text": [
        "\r",
        "computed 348 instances in 142.51772809 seconds "
       ]
      },
      {
       "output_type": "stream",
       "stream": "stdout",
       "text": [
        "\r",
        "computed 349 instances in 142.926588058 seconds "
       ]
      },
      {
       "output_type": "stream",
       "stream": "stdout",
       "text": [
        "\r",
        "computed 350 instances in 143.331649065 seconds "
       ]
      },
      {
       "output_type": "stream",
       "stream": "stdout",
       "text": [
        "\r",
        "computed 351 instances in 143.740275145 seconds "
       ]
      },
      {
       "output_type": "stream",
       "stream": "stdout",
       "text": [
        "\r",
        "computed 352 instances in 144.146870136 seconds "
       ]
      },
      {
       "output_type": "stream",
       "stream": "stdout",
       "text": [
        "\r",
        "computed 353 instances in 144.556930065 seconds "
       ]
      },
      {
       "output_type": "stream",
       "stream": "stdout",
       "text": [
        "\r",
        "computed 354 instances in 144.965097189 seconds "
       ]
      },
      {
       "output_type": "stream",
       "stream": "stdout",
       "text": [
        "\r",
        "computed 355 instances in 145.375558138 seconds "
       ]
      },
      {
       "output_type": "stream",
       "stream": "stdout",
       "text": [
        "\r",
        "computed 356 instances in 145.780140162 seconds "
       ]
      },
      {
       "output_type": "stream",
       "stream": "stdout",
       "text": [
        "\r",
        "computed 357 instances in 146.188669205 seconds "
       ]
      },
      {
       "output_type": "stream",
       "stream": "stdout",
       "text": [
        "\r",
        "computed 358 instances in 146.593761206 seconds "
       ]
      },
      {
       "output_type": "stream",
       "stream": "stdout",
       "text": [
        "\r",
        "computed 359 instances in 147.00167799 seconds "
       ]
      },
      {
       "output_type": "stream",
       "stream": "stdout",
       "text": [
        "\r",
        "computed 360 instances in 147.405402184 seconds "
       ]
      },
      {
       "output_type": "stream",
       "stream": "stdout",
       "text": [
        "\r",
        "computed 361 instances in 147.81866312 seconds "
       ]
      },
      {
       "output_type": "stream",
       "stream": "stdout",
       "text": [
        "\r",
        "computed 362 instances in 148.224569082 seconds "
       ]
      },
      {
       "output_type": "stream",
       "stream": "stdout",
       "text": [
        "\r",
        "computed 363 instances in 148.668304205 seconds "
       ]
      },
      {
       "output_type": "stream",
       "stream": "stdout",
       "text": [
        "\r",
        "computed 364 instances in 149.073800087 seconds "
       ]
      },
      {
       "output_type": "stream",
       "stream": "stdout",
       "text": [
        "\r",
        "computed 365 instances in 149.480338097 seconds "
       ]
      },
      {
       "output_type": "stream",
       "stream": "stdout",
       "text": [
        "\r",
        "computed 366 instances in 149.885632038 seconds "
       ]
      },
      {
       "output_type": "stream",
       "stream": "stdout",
       "text": [
        "\r",
        "computed 367 instances in 150.294432163 seconds "
       ]
      },
      {
       "output_type": "stream",
       "stream": "stdout",
       "text": [
        "\r",
        "computed 368 instances in 150.69937706 seconds "
       ]
      },
      {
       "output_type": "stream",
       "stream": "stdout",
       "text": [
        "\r",
        "computed 369 instances in 151.1066432 seconds "
       ]
      },
      {
       "output_type": "stream",
       "stream": "stdout",
       "text": [
        "\r",
        "computed 370 instances in 151.511828184 seconds "
       ]
      },
      {
       "output_type": "stream",
       "stream": "stdout",
       "text": [
        "\r",
        "computed 371 instances in 151.919561148 seconds "
       ]
      },
      {
       "output_type": "stream",
       "stream": "stdout",
       "text": [
        "\r",
        "computed 372 instances in 152.326931 seconds "
       ]
      },
      {
       "output_type": "stream",
       "stream": "stdout",
       "text": [
        "\r",
        "computed 373 instances in 152.733931065 seconds "
       ]
      },
      {
       "output_type": "stream",
       "stream": "stdout",
       "text": [
        "\r",
        "computed 374 instances in 153.137932062 seconds "
       ]
      },
      {
       "output_type": "stream",
       "stream": "stdout",
       "text": [
        "\r",
        "computed 375 instances in 153.543997049 seconds "
       ]
      },
      {
       "output_type": "stream",
       "stream": "stdout",
       "text": [
        "\r",
        "computed 376 instances in 153.951559067 seconds "
       ]
      },
      {
       "output_type": "stream",
       "stream": "stdout",
       "text": [
        "\r",
        "computed 377 instances in 154.365187168 seconds "
       ]
      },
      {
       "output_type": "stream",
       "stream": "stdout",
       "text": [
        "\r",
        "computed 378 instances in 154.775256157 seconds "
       ]
      },
      {
       "output_type": "stream",
       "stream": "stdout",
       "text": [
        "\r",
        "computed 379 instances in 155.183266163 seconds "
       ]
      },
      {
       "output_type": "stream",
       "stream": "stdout",
       "text": [
        "\r",
        "computed 380 instances in 155.586810112 seconds "
       ]
      },
      {
       "output_type": "stream",
       "stream": "stdout",
       "text": [
        "\r",
        "computed 381 instances in 155.992760181 seconds "
       ]
      },
      {
       "output_type": "stream",
       "stream": "stdout",
       "text": [
        "\r",
        "computed 382 instances in 156.395112038 seconds "
       ]
      },
      {
       "output_type": "stream",
       "stream": "stdout",
       "text": [
        "\r",
        "computed 383 instances in 156.801206112 seconds "
       ]
      },
      {
       "output_type": "stream",
       "stream": "stdout",
       "text": [
        "\r",
        "computed 384 instances in 157.204759121 seconds "
       ]
      },
      {
       "output_type": "stream",
       "stream": "stdout",
       "text": [
        "\r",
        "computed 385 instances in 157.61464715 seconds "
       ]
      },
      {
       "output_type": "stream",
       "stream": "stdout",
       "text": [
        "\r",
        "computed 386 instances in 158.020577192 seconds "
       ]
      },
      {
       "output_type": "stream",
       "stream": "stdout",
       "text": [
        "\r",
        "computed 387 instances in 158.427335024 seconds "
       ]
      },
      {
       "output_type": "stream",
       "stream": "stdout",
       "text": [
        "\r",
        "computed 388 instances in 158.852094173 seconds "
       ]
      },
      {
       "output_type": "stream",
       "stream": "stdout",
       "text": [
        "\r",
        "computed 389 instances in 159.262739182 seconds "
       ]
      },
      {
       "output_type": "stream",
       "stream": "stdout",
       "text": [
        "\r",
        "computed 390 instances in 159.665791035 seconds "
       ]
      },
      {
       "output_type": "stream",
       "stream": "stdout",
       "text": [
        "\r",
        "computed 391 instances in 160.068418026 seconds "
       ]
      },
      {
       "output_type": "stream",
       "stream": "stdout",
       "text": [
        "\r",
        "computed 392 instances in 160.475870132 seconds "
       ]
      },
      {
       "output_type": "stream",
       "stream": "stdout",
       "text": [
        "\r",
        "computed 393 instances in 160.880578041 seconds "
       ]
      },
      {
       "output_type": "stream",
       "stream": "stdout",
       "text": [
        "\r",
        "computed 394 instances in 161.287011147 seconds "
       ]
      },
      {
       "output_type": "stream",
       "stream": "stdout",
       "text": [
        "\r",
        "computed 395 instances in 161.692449093 seconds "
       ]
      },
      {
       "output_type": "stream",
       "stream": "stdout",
       "text": [
        "\r",
        "computed 396 instances in 162.103648186 seconds "
       ]
      },
      {
       "output_type": "stream",
       "stream": "stdout",
       "text": [
        "\r",
        "computed 397 instances in 162.507116079 seconds "
       ]
      },
      {
       "output_type": "stream",
       "stream": "stdout",
       "text": [
        "\r",
        "computed 398 instances in 162.915034056 seconds "
       ]
      },
      {
       "output_type": "stream",
       "stream": "stdout",
       "text": [
        "\r",
        "computed 399 instances in 163.319495201 seconds "
       ]
      },
      {
       "output_type": "stream",
       "stream": "stdout",
       "text": [
        "\r",
        "computed 400 instances in 163.725838184 seconds "
       ]
      },
      {
       "output_type": "stream",
       "stream": "stdout",
       "text": [
        "\r",
        "computed 401 instances in 164.129388094 seconds "
       ]
      },
      {
       "output_type": "stream",
       "stream": "stdout",
       "text": [
        "\r",
        "computed 402 instances in 164.538145065 seconds "
       ]
      },
      {
       "output_type": "stream",
       "stream": "stdout",
       "text": [
        "\r",
        "computed 403 instances in 164.941238165 seconds "
       ]
      },
      {
       "output_type": "stream",
       "stream": "stdout",
       "text": [
        "\r",
        "computed 404 instances in 165.349237204 seconds "
       ]
      },
      {
       "output_type": "stream",
       "stream": "stdout",
       "text": [
        "\r",
        "computed 405 instances in 165.753532171 seconds "
       ]
      },
      {
       "output_type": "stream",
       "stream": "stdout",
       "text": [
        "\r",
        "computed 406 instances in 166.16080904 seconds "
       ]
      },
      {
       "output_type": "stream",
       "stream": "stdout",
       "text": [
        "\r",
        "computed 407 instances in 166.564956188 seconds "
       ]
      },
      {
       "output_type": "stream",
       "stream": "stdout",
       "text": [
        "\r",
        "computed 408 instances in 167.00436902 seconds "
       ]
      },
      {
       "output_type": "stream",
       "stream": "stdout",
       "text": [
        "\r",
        "computed 409 instances in 167.408210993 seconds "
       ]
      },
      {
       "output_type": "stream",
       "stream": "stdout",
       "text": [
        "\r",
        "computed 410 instances in 167.815703154 seconds "
       ]
      },
      {
       "output_type": "stream",
       "stream": "stdout",
       "text": [
        "\r",
        "computed 411 instances in 168.22123909 seconds "
       ]
      },
      {
       "output_type": "stream",
       "stream": "stdout",
       "text": [
        "\r",
        "computed 412 instances in 168.630084038 seconds "
       ]
      },
      {
       "output_type": "stream",
       "stream": "stdout",
       "text": [
        "\r",
        "computed 413 instances in 169.033509016 seconds "
       ]
      },
      {
       "output_type": "stream",
       "stream": "stdout",
       "text": [
        "\r",
        "computed 414 instances in 169.440824032 seconds "
       ]
      },
      {
       "output_type": "stream",
       "stream": "stdout",
       "text": [
        "\r",
        "computed 415 instances in 169.846635103 seconds "
       ]
      },
      {
       "output_type": "stream",
       "stream": "stdout",
       "text": [
        "\r",
        "computed 416 instances in 170.255779982 seconds "
       ]
      },
      {
       "output_type": "stream",
       "stream": "stdout",
       "text": [
        "\r",
        "computed 417 instances in 170.660531044 seconds "
       ]
      },
      {
       "output_type": "stream",
       "stream": "stdout",
       "text": [
        "\r",
        "computed 418 instances in 171.069410086 seconds "
       ]
      },
      {
       "output_type": "stream",
       "stream": "stdout",
       "text": [
        "\r",
        "computed 419 instances in 171.474629164 seconds "
       ]
      },
      {
       "output_type": "stream",
       "stream": "stdout",
       "text": [
        "\r",
        "computed 420 instances in 171.882804155 seconds "
       ]
      },
      {
       "output_type": "stream",
       "stream": "stdout",
       "text": [
        "\r",
        "computed 421 instances in 172.287400007 seconds "
       ]
      },
      {
       "output_type": "stream",
       "stream": "stdout",
       "text": [
        "\r",
        "computed 422 instances in 172.696089983 seconds "
       ]
      },
      {
       "output_type": "stream",
       "stream": "stdout",
       "text": [
        "\r",
        "computed 423 instances in 173.100863218 seconds "
       ]
      },
      {
       "output_type": "stream",
       "stream": "stdout",
       "text": [
        "\r",
        "computed 424 instances in 173.510065079 seconds "
       ]
      },
      {
       "output_type": "stream",
       "stream": "stdout",
       "text": [
        "\r",
        "computed 425 instances in 173.91398406 seconds "
       ]
      },
      {
       "output_type": "stream",
       "stream": "stdout",
       "text": [
        "\r",
        "computed 426 instances in 174.32233119 seconds "
       ]
      },
      {
       "output_type": "stream",
       "stream": "stdout",
       "text": [
        "\r",
        "computed 427 instances in 174.730626106 seconds "
       ]
      },
      {
       "output_type": "stream",
       "stream": "stdout",
       "text": [
        "\r",
        "computed 428 instances in 175.137020111 seconds "
       ]
      },
      {
       "output_type": "stream",
       "stream": "stdout",
       "text": [
        "\r",
        "computed 429 instances in 175.540921211 seconds "
       ]
      },
      {
       "output_type": "stream",
       "stream": "stdout",
       "text": [
        "\r",
        "computed 430 instances in 175.948945045 seconds "
       ]
      },
      {
       "output_type": "stream",
       "stream": "stdout",
       "text": [
        "\r",
        "computed 431 instances in 176.360280037 seconds "
       ]
      },
      {
       "output_type": "stream",
       "stream": "stdout",
       "text": [
        "\r",
        "computed 432 instances in 176.767353058 seconds "
       ]
      },
      {
       "output_type": "stream",
       "stream": "stdout",
       "text": [
        "\r",
        "computed 433 instances in 177.185058117 seconds "
       ]
      },
      {
       "output_type": "stream",
       "stream": "stdout",
       "text": [
        "\r",
        "computed 434 instances in 177.595458031 seconds "
       ]
      },
      {
       "output_type": "stream",
       "stream": "stdout",
       "text": [
        "\r",
        "computed 435 instances in 178.002485991 seconds "
       ]
      },
      {
       "output_type": "stream",
       "stream": "stdout",
       "text": [
        "\r",
        "computed 436 instances in 178.409967184 seconds "
       ]
      },
      {
       "output_type": "stream",
       "stream": "stdout",
       "text": [
        "\r",
        "computed 437 instances in 178.820662022 seconds "
       ]
      },
      {
       "output_type": "stream",
       "stream": "stdout",
       "text": [
        "\r",
        "computed 438 instances in 179.226731062 seconds "
       ]
      },
      {
       "output_type": "stream",
       "stream": "stdout",
       "text": [
        "\r",
        "computed 439 instances in 179.633753061 seconds "
       ]
      },
      {
       "output_type": "stream",
       "stream": "stdout",
       "text": [
        "\r",
        "computed 440 instances in 180.04353404 seconds "
       ]
      },
      {
       "output_type": "stream",
       "stream": "stdout",
       "text": [
        "\r",
        "computed 441 instances in 180.454279184 seconds "
       ]
      },
      {
       "output_type": "stream",
       "stream": "stdout",
       "text": [
        "\r",
        "computed 442 instances in 180.860805988 seconds "
       ]
      },
      {
       "output_type": "stream",
       "stream": "stdout",
       "text": [
        "\r",
        "computed 443 instances in 181.265359163 seconds "
       ]
      },
      {
       "output_type": "stream",
       "stream": "stdout",
       "text": [
        "\r",
        "computed 444 instances in 181.672461987 seconds "
       ]
      },
      {
       "output_type": "stream",
       "stream": "stdout",
       "text": [
        "\r",
        "computed 445 instances in 182.076718092 seconds "
       ]
      },
      {
       "output_type": "stream",
       "stream": "stdout",
       "text": [
        "\r",
        "computed 446 instances in 182.483727217 seconds "
       ]
      },
      {
       "output_type": "stream",
       "stream": "stdout",
       "text": [
        "\r",
        "computed 447 instances in 182.886628151 seconds "
       ]
      },
      {
       "output_type": "stream",
       "stream": "stdout",
       "text": [
        "\r",
        "computed 448 instances in 183.295770168 seconds "
       ]
      },
      {
       "output_type": "stream",
       "stream": "stdout",
       "text": [
        "\r",
        "computed 449 instances in 183.701776028 seconds "
       ]
      },
      {
       "output_type": "stream",
       "stream": "stdout",
       "text": [
        "\r",
        "computed 450 instances in 184.107357025 seconds "
       ]
      },
      {
       "output_type": "stream",
       "stream": "stdout",
       "text": [
        "\r",
        "computed 451 instances in 184.512925148 seconds "
       ]
      },
      {
       "output_type": "stream",
       "stream": "stdout",
       "text": [
        "\r",
        "computed 452 instances in 184.920852184 seconds "
       ]
      },
      {
       "output_type": "stream",
       "stream": "stdout",
       "text": [
        "\r",
        "computed 453 instances in 185.323886156 seconds "
       ]
      },
      {
       "output_type": "stream",
       "stream": "stdout",
       "text": [
        "\r",
        "computed 454 instances in 185.730700016 seconds "
       ]
      },
      {
       "output_type": "stream",
       "stream": "stdout",
       "text": [
        "\r",
        "computed 455 instances in 186.177870035 seconds "
       ]
      },
      {
       "output_type": "stream",
       "stream": "stdout",
       "text": [
        "\r",
        "computed 456 instances in 186.589812994 seconds "
       ]
      },
      {
       "output_type": "stream",
       "stream": "stdout",
       "text": [
        "\r",
        "computed 457 instances in 186.99359417 seconds "
       ]
      },
      {
       "output_type": "stream",
       "stream": "stdout",
       "text": [
        "\r",
        "computed 458 instances in 187.398951054 seconds "
       ]
      },
      {
       "output_type": "stream",
       "stream": "stdout",
       "text": [
        "\r",
        "computed 459 instances in 187.803563118 seconds "
       ]
      },
      {
       "output_type": "stream",
       "stream": "stdout",
       "text": [
        "\r",
        "computed 460 instances in 188.206565142 seconds "
       ]
      },
      {
       "output_type": "stream",
       "stream": "stdout",
       "text": [
        "\r",
        "computed 461 instances in 188.612150192 seconds "
       ]
      },
      {
       "output_type": "stream",
       "stream": "stdout",
       "text": [
        "\r",
        "computed 462 instances in 189.016370058 seconds "
       ]
      },
      {
       "output_type": "stream",
       "stream": "stdout",
       "text": [
        "\r",
        "computed 463 instances in 189.425136089 seconds "
       ]
      },
      {
       "output_type": "stream",
       "stream": "stdout",
       "text": [
        "\r",
        "computed 464 instances in 189.830339193 seconds "
       ]
      },
      {
       "output_type": "stream",
       "stream": "stdout",
       "text": [
        "\r",
        "computed 465 instances in 190.238759995 seconds "
       ]
      },
      {
       "output_type": "stream",
       "stream": "stdout",
       "text": [
        "\r",
        "computed 466 instances in 190.641546011 seconds "
       ]
      },
      {
       "output_type": "stream",
       "stream": "stdout",
       "text": [
        "\r",
        "computed 467 instances in 191.048233032 seconds "
       ]
      },
      {
       "output_type": "stream",
       "stream": "stdout",
       "text": [
        "\r",
        "computed 468 instances in 191.452504158 seconds "
       ]
      },
      {
       "output_type": "stream",
       "stream": "stdout",
       "text": [
        "\r",
        "computed 469 instances in 191.859321117 seconds "
       ]
      },
      {
       "output_type": "stream",
       "stream": "stdout",
       "text": [
        "\r",
        "computed 470 instances in 192.262807131 seconds "
       ]
      },
      {
       "output_type": "stream",
       "stream": "stdout",
       "text": [
        "\r",
        "computed 471 instances in 192.66901803 seconds "
       ]
      },
      {
       "output_type": "stream",
       "stream": "stdout",
       "text": [
        "\r",
        "computed 472 instances in 193.085031986 seconds "
       ]
      },
      {
       "output_type": "stream",
       "stream": "stdout",
       "text": [
        "\r",
        "computed 473 instances in 193.49351716 seconds "
       ]
      },
      {
       "output_type": "stream",
       "stream": "stdout",
       "text": [
        "\r",
        "computed 474 instances in 193.903146029 seconds "
       ]
      },
      {
       "output_type": "stream",
       "stream": "stdout",
       "text": [
        "\r",
        "computed 475 instances in 194.307522058 seconds "
       ]
      },
      {
       "output_type": "stream",
       "stream": "stdout",
       "text": [
        "\r",
        "computed 476 instances in 194.715121984 seconds "
       ]
      },
      {
       "output_type": "stream",
       "stream": "stdout",
       "text": [
        "\r",
        "computed 477 instances in 195.133043051 seconds "
       ]
      },
      {
       "output_type": "stream",
       "stream": "stdout",
       "text": [
        "\r",
        "computed 478 instances in 195.542506218 seconds "
       ]
      },
      {
       "output_type": "stream",
       "stream": "stdout",
       "text": [
        "\r",
        "computed 479 instances in 195.962405205 seconds "
       ]
      },
      {
       "output_type": "stream",
       "stream": "stdout",
       "text": [
        "\r",
        "computed 480 instances in 196.373633146 seconds "
       ]
      },
      {
       "output_type": "stream",
       "stream": "stdout",
       "text": [
        "\r",
        "computed 481 instances in 196.780256987 seconds "
       ]
      },
      {
       "output_type": "stream",
       "stream": "stdout",
       "text": [
        "\r",
        "computed 482 instances in 197.193577051 seconds "
       ]
      },
      {
       "output_type": "stream",
       "stream": "stdout",
       "text": [
        "\r",
        "computed 483 instances in 197.600355148 seconds "
       ]
      },
      {
       "output_type": "stream",
       "stream": "stdout",
       "text": [
        "\r",
        "computed 484 instances in 198.007438183 seconds "
       ]
      },
      {
       "output_type": "stream",
       "stream": "stdout",
       "text": [
        "\r",
        "computed 485 instances in 198.420681 seconds \r\n",
        "Variance repartition layer pool5 :\n",
        "Dimension 1 : 36.0%\n",
        "Dimension 2 : 19.7%\n",
        "Residual    : 44.3%\n",
        "Variance repartition layer fc6 :\n",
        "Dimension 1 : 27.2%\n",
        "Dimension 2 : 29.2%\n",
        "Residual    : 43.6%\n",
        "Variance repartition layer fc7 :\n",
        "Dimension 1 : 26.8%\n",
        "Dimension 2 : 32.3%\n",
        "Residual    : 40.9%\n",
        "Variance repartition layer fc8 :\n",
        "Dimension 1 : 30.5%\n",
        "Dimension 2 : 37.4%\n",
        "Residual    : 32.1%\n",
        "Variance repartition layer prob :\n",
        "Dimension 1 : 16.0%\n",
        "Dimension 2 : 34.9%\n",
        "Residual    : 49.1%\n",
        "\n"
       ]
      }
     ],
     "prompt_number": 5
    }
   ],
   "metadata": {}
  }
 ]
}